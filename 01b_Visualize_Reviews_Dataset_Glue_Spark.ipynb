{
 "cells": [
  {
   "cell_type": "markdown",
   "metadata": {},
   "source": [
    "# 使用 Spark 和 AWS Glue 交互式可视化完整的亚马逊客户评论数据集\n",
    "\n",
    "在本notebook中，我们将使用 AWS Glue 与 PySpark 的交互式会话查询完整的评论数据。通过 [AWS Glue](https://aws.amazon.com/glue/) 交互式会话，可以快速构建、测试和运行数据准备和分析应用程序。交互式会话提供了一个编程接口，用于构建和测试用于数据准备的提取、转换和加载 (ETL) 脚本。对于需要分布式计算的大型数据集进行交互式开发的数据工程师和科学家来说，这是一个强大的工具，因为他们不需要管理 Spark 集群的基础架构。\n",
    "\n",
    "在数据科学生命周期中，探索性数据分析 (EDA) 是数据科学家和工程师直观了解其数据集的重要一步。然后，这种直观的理解可以指导机器学习生命周期中更进一步的决策，例如模型训练、部署和监控。在本notebook中，我们将使用 PySpark 和 Spark SQL 对亚马逊评论数据集进行 EDA 和相关的可视化。\n",
    "\n",
    "![glue-interactive-sessions](./img/gis.png)"
   ]
  },
  {
   "cell_type": "markdown",
   "metadata": {
    "tags": []
   },
   "source": [
    "<a name='1'></a>\n",
    "## Set up Kernel and Required Dependencies"
   ]
  },
  {
   "cell_type": "markdown",
   "metadata": {
    "tags": []
   },
   "source": [
    "First, check that the correct kernel is chosen.\n",
    "\n",
    "<img src=\"img/gis_kernel_set_up.png\" width=\"300\"/>\n",
    "\n",
    "You can click on that to see and check the details of the image, kernel, and instance type.\n",
    "\n",
    "<img src=\"img/gis_kernel_and_instance_type.png\" width=\"600\"/>"
   ]
  },
  {
   "cell_type": "markdown",
   "metadata": {
    "tags": []
   },
   "source": [
    "# 数据列描述\n",
    "\n",
    "- `marketplace`: 2 个字母的国家/地区代码（在本例中全部为 “US”)\n",
    "- `customer_id`: 随机标识符，可用于汇总单个作者撰写的评论\n",
    "- `review_id`: 评论的唯一 ID\n",
    "- `product_id`: 亚马逊标准识别码 (ASIN)  `http://www.amazon.com/dp/<ASIN>` 指向商品详情页面的链接\n",
    "- `product_parent`: 该 ASIN 的父商品。多个 ASIN（同一商品的颜色或格式变体）可以合并为一个父商品\n",
    "- `product_title`: 商品的标题描述\n",
    "- `product_category`: 可用于对评论进行分组的广泛产品类别（在本例中为数字视频）\n",
    "- `star_rating`: 该评论的评分（1 到 5 星）\n",
    "- `helpful_votes`: 评论的有用票数\n",
    "- `total_votes`: 评论获得的总票数\n",
    "- `vine`: 这篇评论是作为 [Vine](https://www.amazon.com/gp/vine/help) 计划的一部分写的吗？\n",
    "- `verified_purchase`: 评论来自经过验证的购买吗？\n",
    "- `review_headline`: 评论的标题\n",
    "- `review_body`: 评论的文本\n",
    "- `review_date`: 撰写评论的日期\n",
    "- `year`: 从审核日期得出的年份"
   ]
  },
  {
   "cell_type": "code",
   "execution_count": 3,
   "metadata": {
    "tags": [],
    "vscode": {
     "languageId": "python_glue_session"
    }
   },
   "outputs": [
    {
     "name": "stdout",
     "output_type": "stream",
     "text": [
      "Welcome to the Glue Interactive Sessions Kernel\n",
      "For more information on available magic commands, please type %help in any new cell.\n",
      "\n",
      "Please view our Getting Started page to access the most up-to-date information on the Interactive Sessions kernel: https://docs.aws.amazon.com/glue/latest/dg/interactive-sessions.html\n",
      "Installed kernel version: 0.38.4 \n",
      "There is no current session.\n"
     ]
    }
   ],
   "source": [
    "%stop_session"
   ]
  },
  {
   "cell_type": "code",
   "execution_count": 6,
   "metadata": {
    "tags": [],
    "vscode": {
     "languageId": "python_glue_session"
    }
   },
   "outputs": [
    {
     "name": "stdout",
     "output_type": "stream",
     "text": [
      "Additional python modules to be included:\n",
      "seaborn\n",
      "psutil\n",
      "Previous number of workers: 5\n",
      "Setting new number of workers to: 10\n"
     ]
    }
   ],
   "source": [
    "# `%additional_python_modules seaborn,psutil`用于添加额外的Python模块。这里添加了seaborn和psutil两个模块。\n",
    "%additional_python_modules seaborn,psutil\n",
    "# `%number_of_workers 10`用于设置Notebook的工作进程数,这里将其设置为10个。\n",
    "%number_of_workers 10"
   ]
  },
  {
   "cell_type": "code",
   "execution_count": 1,
   "metadata": {
    "tags": [],
    "vscode": {
     "languageId": "python_glue_session"
    }
   },
   "outputs": [
    {
     "name": "stdout",
     "output_type": "stream",
     "text": [
      "Trying to create a Glue session for the kernel.\n",
      "Worker Type: G.1X\n",
      "Number of Workers: 10\n",
      "Session ID: b175a9d3-6bd2-4a79-96b8-6255b755352b\n",
      "Job Type: glueetl\n",
      "Applying the following default arguments:\n",
      "--glue_kernel_version 0.38.4\n",
      "--enable-glue-datacatalog true\n",
      "--additional-python-modules seaborn,psutil\n",
      "Waiting for session b175a9d3-6bd2-4a79-96b8-6255b755352b to get into ready status...\n",
      "Session b175a9d3-6bd2-4a79-96b8-6255b755352b has been created.\n",
      "<pyspark.sql.session.SparkSession object at 0x7fdfe9c18650>\n"
     ]
    }
   ],
   "source": [
    "spark"
   ]
  },
  {
   "cell_type": "markdown",
   "metadata": {},
   "source": [
    "# Set Seaborn Parameters"
   ]
  },
  {
   "cell_type": "code",
   "execution_count": 2,
   "metadata": {
    "tags": [],
    "vscode": {
     "languageId": "python_glue_session"
    }
   },
   "outputs": [
    {
     "name": "stdout",
     "output_type": "stream",
     "text": [
      "'\\n这段代码导入了numpy, pandas, seaborn和matplotlib模块,并配置了seaborn的默认样式和matplotlib的绘图参数。\\n\\n主要作用:\\n\\n1. 导入需要的模块\\n2. 设置seaborn默认样式为白色网格背景\\n3. 配置matplotlib各个元素的样式,包括字体、颜色、大小等参数\\n\\n这样可以让后续的可视化都应用这些样式配置,从而保持绘图样式的一致性。\\n'\n"
     ]
    }
   ],
   "source": [
    "import numpy as np\n",
    "import pandas as pd\n",
    "import seaborn as sns\n",
    "\n",
    "import matplotlib.pyplot as plt\n",
    "\n",
    "# 设置matplotlib的样式为seaborn-whitegrid\n",
    "sns.set_style = \"seaborn-whitegrid\" \n",
    "\n",
    "sns.set(\n",
    "    rc={\n",
    "        \"font.style\": \"normal\", # 字体风格为正常\n",
    "        \"axes.facecolor\": \"white\", # 坐标轴背景色为白色 \n",
    "        \"grid.color\": \".8\", # 网格颜色为灰色\n",
    "        \"grid.linestyle\": \"-\", # 网格线型为实线\n",
    "        \"figure.facecolor\": \"white\", # 图形背景色为白色\n",
    "        \"figure.titlesize\": 20, # 图形标题字体大小为20\n",
    "        \"text.color\": \"black\", # 文本颜色为黑色  \n",
    "        \"xtick.color\": \"black\", # x轴刻度文字颜色为黑色\n",
    "        \"ytick.color\": \"black\", # y轴刻度文字颜色为黑色\n",
    "        \"axes.labelcolor\": \"black\", # 坐标轴标签颜色为黑色\n",
    "        \"axes.grid\": True, # 显示坐标轴网格\n",
    "        \"axes.labelsize\": 10, # 坐标轴标签字体大小为10\n",
    "        \"xtick.labelsize\": 10, # x轴刻度标签字体大小为10\n",
    "        \"font.size\": 10, # 文本字体大小为10\n",
    "        \"ytick.labelsize\": 10, # y轴刻度标签字体大小为10\n",
    "    }\n",
    ")\n",
    "\n",
    "\"\"\"\n",
    "这段代码导入了numpy, pandas, seaborn和matplotlib模块,并配置了seaborn的默认样式和matplotlib的绘图参数。\n",
    "\n",
    "主要作用:\n",
    "\n",
    "1. 导入需要的模块\n",
    "2. 设置seaborn默认样式为白色网格背景\n",
    "3. 配置matplotlib各个元素的样式,包括字体、颜色、大小等参数\n",
    "\n",
    "这样可以让后续的可视化都应用这些样式配置,从而保持绘图样式的一致性。\n",
    "\"\"\""
   ]
  },
  {
   "cell_type": "markdown",
   "metadata": {},
   "source": [
    "# 用于在条形图上显示值的辅助代码"
   ]
  },
  {
   "cell_type": "code",
   "execution_count": 3,
   "metadata": {
    "tags": [],
    "vscode": {
     "languageId": "python_glue_session"
    }
   },
   "outputs": [
    {
     "name": "stdout",
     "output_type": "stream",
     "text": [
      "\n"
     ]
    }
   ],
   "source": [
    "def show_values_barplot(axs, space):\n",
    "    def _show_on_plot(ax):\n",
    "        # 对axes中的每个条形\n",
    "        for p in ax.patches:\n",
    "            # 获取条形的x,y坐标及宽高\n",
    "            _x = p.get_x() + p.get_width() + float(space)\n",
    "            _y = p.get_y() + p.get_height()\n",
    "            # 获取条形的宽度并保留两位小数\n",
    "            value = round(float(p.get_width()), 2)\n",
    "            # 在条形右侧指定位置显示数值\n",
    "            ax.text(_x, _y, value, ha=\"left\")\n",
    "\n",
    "    # 如果axs是数组,对每个axes执行操作\n",
    "    if isinstance(axs, np.ndarray):\n",
    "        for idx, ax in np.ndenumerate(axs):\n",
    "            _show_on_plot(ax)\n",
    "    # 如果axs是单个axes,直接执行操作\n",
    "    else:\n",
    "        _show_on_plot(axs)"
   ]
  },
  {
   "cell_type": "markdown",
   "metadata": {
    "tags": []
   },
   "source": [
    "# 设置要查询的 Glue 数据库和表名"
   ]
  },
  {
   "cell_type": "code",
   "execution_count": 4,
   "metadata": {
    "tags": [],
    "vscode": {
     "languageId": "python_glue_session"
    }
   },
   "outputs": [
    {
     "name": "stdout",
     "output_type": "stream",
     "text": [
      "\n"
     ]
    }
   ],
   "source": [
    "database_name = \"default\"\n",
    "table_name = \"amazon_reviews_parquet\""
   ]
  },
  {
   "cell_type": "markdown",
   "metadata": {
    "tags": []
   },
   "source": [
    "# 1. 哪些产品类别的平均评分最高？\n",
    "## _这个查询需要一两分钟。请耐心等待。_"
   ]
  },
  {
   "cell_type": "code",
   "execution_count": 5,
   "metadata": {
    "tags": [],
    "vscode": {
     "languageId": "python_glue_session"
    }
   },
   "outputs": [
    {
     "name": "stdout",
     "output_type": "stream",
     "text": [
      "+------------------------+------------------+\n",
      "|product_category        |avg_star_rating   |\n",
      "+------------------------+------------------+\n",
      "|Gift_Card               |4.731363105858364 |\n",
      "|Digital_Music_Purchase  |4.636945897383845 |\n",
      "|Music                   |4.440540705473373 |\n",
      "|Books                   |4.340540167594962 |\n",
      "|Digital_Ebook_Purchase  |4.312491185831222 |\n",
      "|Grocery                 |4.3122209651867776|\n",
      "|Video_DVD               |4.307379993803094 |\n",
      "|Tools                   |4.26214078611011  |\n",
      "|Musical_Instruments     |4.251038036164822 |\n",
      "|Automotive              |4.246242829469048 |\n",
      "|Shoes                   |4.2414026795449224|\n",
      "|Outdoors                |4.239963115827751 |\n",
      "|Sports                  |4.229078730400938 |\n",
      "|Luggage                 |4.223774961905526 |\n",
      "|Toys                    |4.218104581238039 |\n",
      "|Digital_Video_Download  |4.207548770783551 |\n",
      "|Kitchen                 |4.20729367860571  |\n",
      "|Video                   |4.20092865030212  |\n",
      "|Beauty                  |4.187224635589001 |\n",
      "|Home_Improvement        |4.182261666996131 |\n",
      "|Home                    |4.1785132920622035|\n",
      "|Baby                    |4.164214487790478 |\n",
      "|Health_&_Personal_Care  |4.161769909446729 |\n",
      "|Jewelry                 |4.144090266004357 |\n",
      "|Pet_Products            |4.143657113028479 |\n",
      "|Watches                 |4.140102367791976 |\n",
      "|Camera                  |4.130621179490526 |\n",
      "|Apparel                 |4.105233930306817 |\n",
      "|Lawn_and_Garden         |4.093072570558454 |\n",
      "|PC                      |4.088439919438485 |\n",
      "|Furniture               |4.083872539490592 |\n",
      "|Office_Products         |4.072724600234801 |\n",
      "|Video_Games             |4.060589907801332 |\n",
      "|Electronics             |4.036143941340712 |\n",
      "|Mobile_Apps             |4.0350316122744765|\n",
      "|Personal_Care_Appliances|3.9783471379461504|\n",
      "|Home_Entertainment      |3.9091972569584508|\n",
      "|Wireless                |3.892277254145134 |\n",
      "|Digital_Video_Games     |3.8531262248076406|\n",
      "|Mobile_Electronics      |3.763966945292367 |\n",
      "|Major_Appliances        |3.71618455949887  |\n",
      "|Software                |3.5673316088678444|\n",
      "|Digital_Software        |3.5393303553935973|\n",
      "+------------------------+------------------+\n"
     ]
    }
   ],
   "source": [
    "# 使用 Spark SQL 对指定数据库的指定表进行查询。\n",
    "# 从指定的数据库和表中查询各个产品类别的平均星级评分，并按照这个平均值进行降序排序\n",
    "df = spark.sql(\"\"\"SELECT product_category, AVG(star_rating) AS avg_star_rating \n",
    "    FROM {}.{} \n",
    "    GROUP BY product_category \n",
    "    ORDER BY avg_star_rating DESC\"\"\".format(database_name, table_name)\n",
    ")\n",
    "# 显示查询结果的前 50 行，并且关闭数据截断，即完整显示每一列的数据\n",
    "df.show(50, truncate=False)"
   ]
  },
  {
   "cell_type": "code",
   "execution_count": 6,
   "metadata": {
    "tags": [],
    "vscode": {
     "languageId": "python_glue_session"
    }
   },
   "outputs": [
    {
     "name": "stdout",
     "output_type": "stream",
     "text": [
      "\n"
     ]
    }
   ],
   "source": [
    "# 将 Spark Dataframe 转为 Pandas Dataframe，然后获取它的形状（行数和列数），此处我们只关心行数，也就是产品类别的数量，并将其存储在 num_categories 变量中\n",
    "num_categories = df.toPandas().shape[0]\n",
    "\n",
    "# 将 Spark Dataframe 转为 Pandas Dataframe，然后将其存储在 average_star_ratings 变量中，以备后续使用\n",
    "average_star_ratings = df.toPandas()"
   ]
  },
  {
   "cell_type": "markdown",
   "metadata": {},
   "source": [
    "## 可视化"
   ]
  },
  {
   "cell_type": "code",
   "execution_count": 7,
   "metadata": {
    "tags": [],
    "vscode": {
     "languageId": "python_glue_session"
    }
   },
   "outputs": [
    {
     "data": {
      "image/png": "[encoded data removed]"
     },
     "metadata": {
      "image/png": {
       "height": 480,
       "width": 640
      }
     },
     "output_type": "display_data"
    }
   ],
   "source": [
    "# 清空当前的图形\n",
    "plt.clf()\n",
    "\n",
    "# 创建条形图，y轴是产品类别，x轴是平均星级评分\n",
    "barplot = sns.barplot(y=\"product_category\", x=\"avg_star_rating\", data=df.toPandas(), saturation=1)\n",
    "\n",
    "# 如果产品类别数量少于10，设置图形大小\n",
    "if num_categories < 10:\n",
    "    sns.set(rc={\"figure.figsize\": (10.0, 5.0)})\n",
    "\n",
    "# 设置图形的标题和x轴的标签\n",
    "plt.title(\"Average Rating by Product Category\")\n",
    "plt.xticks([1, 2, 3, 4, 5], [\"1-Star\", \"2-Star\", \"3-Star\", \"4-Star\", \"5-Star\"])\n",
    "\n",
    "# 调用自定义函数 show_values_barplot 在每个条形上显示具体数值，0.1 是数值标签的位置参数\n",
    "show_values_barplot(barplot, 0.1)\n",
    "\n",
    "# 设置x轴和y轴的标签\n",
    "plt.xlabel(\"Average Rating\")\n",
    "plt.ylabel(\"Product Category\")\n",
    "\n",
    "# 如果需要，可以导出图形\n",
    "plt.tight_layout()\n",
    "# plt.savefig('avg_ratings_per_category.png', dpi=300)\n",
    "\n",
    "# 显示图形\n",
    "plt.show()\n",
    "\n",
    "# 在 Jupyter notebook 中显示 Matplotlib 生成的图形\n",
    "%matplot plt"
   ]
  },
  {
   "cell_type": "markdown",
   "metadata": {},
   "source": [
    "# 2. 哪些产品类别的评论最多？\n",
    "## _This query takes a minute or two.  Please be patient._\n",
    "\n",
    "请注意，在此单元格中，使用 PySpark 语法来处理 Glue 表中的数据，而上一节则使用 Spark SQL。"
   ]
  },
  {
   "cell_type": "code",
   "execution_count": 8,
   "metadata": {
    "tags": [],
    "vscode": {
     "languageId": "python_glue_session"
    }
   },
   "outputs": [
    {
     "name": "stdout",
     "output_type": "stream",
     "text": [
      "+------------------------+-----------------+\n",
      "|product_category        |count_star_rating|\n",
      "+------------------------+-----------------+\n",
      "|Books                   |20726160         |\n",
      "|Digital_Ebook_Purchase  |19180765         |\n",
      "|Wireless                |9038249          |\n",
      "|Video_DVD               |7135819          |\n",
      "|PC                      |7004337          |\n",
      "|Mobile_Apps             |6807166          |\n",
      "|Home                    |6228567          |\n",
      "|Music                   |6177781          |\n",
      "|Apparel                 |5906460          |\n",
      "|Health_&_Personal_Care  |5332883          |\n",
      "|Digital_Video_Download  |5173743          |\n",
      "|Beauty                  |5115721          |\n",
      "|Toys                    |4981601          |\n",
      "|Kitchen                 |4882831          |\n",
      "|Sports                  |4860054          |\n",
      "|Shoes                   |4379475          |\n",
      "|Automotive              |3516476          |\n",
      "|Electronics             |3120938          |\n",
      "|Office_Products         |2646491          |\n",
      "|Pet_Products            |2643670          |\n",
      "|Home_Improvement        |2640654          |\n",
      "|Lawn_and_Garden         |2559261          |\n",
      "|Grocery                 |2402478          |\n",
      "|Outdoors                |2305596          |\n",
      "|Digital_Music_Purchase  |1852184          |\n",
      "|Camera                  |1838760          |\n",
      "|Video_Games             |1808486          |\n",
      "|Jewelry                 |1767753          |\n",
      "|Baby                    |1764893          |\n",
      "|Tools                   |1748610          |\n",
      "|Watches                 |978042           |\n",
      "|Musical_Instruments     |920729           |\n",
      "|Furniture               |792214           |\n",
      "|Home_Entertainment      |743700           |\n",
      "|Video                   |437409           |\n",
      "|Luggage                 |349132           |\n",
      "|Software                |342135           |\n",
      "|Gift_Card               |149086           |\n",
      "|Digital_Video_Games     |145431           |\n",
      "|Mobile_Electronics      |105159           |\n",
      "|Digital_Software        |102084           |\n",
      "|Major_Appliances        |96901            |\n",
      "|Personal_Care_Appliances|86686            |\n",
      "+------------------------+-----------------+\n"
     ]
    }
   ],
   "source": [
    "\"\"\"\n",
    "这段代码的主要目的是从指定的数据库和表中查询各个产品类别的评论数量，并按照这个数量进行降序排序，显示前50条结果。\n",
    "\"\"\"\n",
    "\n",
    "# 导入 PySpark SQL 函数库\n",
    "from pyspark.sql import functions as f\n",
    "\n",
    "# 使用 Spark SQL 从指定数据库和表中取得所有数据\n",
    "df_raw = spark.sql(\"SELECT * FROM {}.{}\".format(database_name, table_name))\n",
    "\n",
    "# 对原始数据进行处理\n",
    "df = (\n",
    "    df_raw\n",
    "    # 选择 'product_category' 和 'star_rating' 列\n",
    "    .select(\"product_category\", \"star_rating\")\n",
    "    # 按 'product_category' 列进行分组\n",
    "    .groupBy(\"product_category\")\n",
    "    # 对每个产品类别的 'star_rating' 列进行计数，并将计数结果命名为 'count_star_rating'\n",
    "    .agg(f.count(\"star_rating\").alias(\"count_star_rating\"))\n",
    "    # 按 'count_star_rating' 列的值进行降序排序\n",
    "    .orderBy(\"count_star_rating\", ascending=False)\n",
    ")\n",
    "\n",
    "# 显示查询结果的前 50 行，并且关闭数据截断，即完整显示每一列的数据\n",
    "df.show(50, truncate=False)"
   ]
  },
  {
   "cell_type": "code",
   "execution_count": 9,
   "metadata": {
    "tags": [],
    "vscode": {
     "languageId": "python_glue_session"
    }
   },
   "outputs": [
    {
     "name": "stdout",
     "output_type": "stream",
     "text": [
      "\n"
     ]
    }
   ],
   "source": [
    "# 将 Spark Dataframe 转为 Pandas Dataframe，然后取出 'count_star_rating' 这一列（即各个产品类别的评论数量），并将其存储在 count_ratings 变量中\n",
    "count_ratings = df.toPandas()[\"count_star_rating\"]\n",
    "\n",
    "# 将 Spark Dataframe 转为 Pandas Dataframe，然后取出 'count_star_rating' 这一列的最大值（即评论数量最多的产品类别的评论数量），并将其存储在 max_ratings 变量中\n",
    "max_ratings = df.toPandas()[\"count_star_rating\"].max()"
   ]
  },
  {
   "cell_type": "markdown",
   "metadata": {},
   "source": [
    "## 可视化"
   ]
  },
  {
   "cell_type": "code",
   "execution_count": 10,
   "metadata": {
    "tags": [],
    "vscode": {
     "languageId": "python_glue_session"
    }
   },
   "outputs": [
    {
     "data": {
      "image/png": "[encoded data removed]"
     },
     "metadata": {
      "image/png": {
       "height": 480,
       "width": 640
      }
     },
     "output_type": "display_data"
    }
   ],
   "source": [
    "# 清空当前的图形\n",
    "plt.clf()\n",
    "\n",
    "# 创建条形图，y轴是产品类别，x轴是评论数量\n",
    "barplot = sns.barplot(y=\"product_category\", x=\"count_star_rating\", data=df.toPandas(), saturation=1)\n",
    "\n",
    "# 如果产品类别数量少于10，设置图形大小\n",
    "if num_categories < 10:\n",
    "    sns.set(rc={\"figure.figsize\": (10.0, 5.0)})\n",
    "\n",
    "# 设置图形的标题\n",
    "plt.title(\"Number of Ratings per Product Category for Subset of Product Categories\")\n",
    "\n",
    "# 根据最大评论数量设置x轴的刻度和范围\n",
    "if max_ratings > 200000:\n",
    "    plt.xticks([100000, 1000000, 5000000, 10000000, 15000000, 20000000], [\"100K\", \"1m\", \"5m\", \"10m\", \"15m\", \"20m\"])\n",
    "    plt.xlim(0, 20000000)\n",
    "elif max_ratings <= 200000:\n",
    "    plt.xticks([50000, 100000, 150000, 200000], [\"50K\", \"100K\", \"150K\", \"200K\"])\n",
    "    plt.xlim(0, 200000)\n",
    "\n",
    "# 设置x轴和y轴的标签\n",
    "plt.xlabel(\"Number of Ratings\")\n",
    "plt.ylabel(\"Product Category\")\n",
    "\n",
    "# 如果需要，可以导出图形\n",
    "plt.tight_layout()\n",
    "# plt.savefig('ratings_per_category.png', dpi=300)\n",
    "\n",
    "# 显示图形\n",
    "plt.show()\n",
    "\n",
    "# 在 Jupyter notebook 中显示 Matplotlib 生成的图形\n",
    "%matplot plt"
   ]
  },
  {
   "cell_type": "markdown",
   "metadata": {},
   "source": [
    "# 3. 根据第一次评论的日期，判断每个商品类别何时出现在亚马逊目录中？\n",
    "## _This query takes a minute or two.  Please be patient._"
   ]
  },
  {
   "cell_type": "code",
   "execution_count": 11,
   "metadata": {
    "tags": [],
    "vscode": {
     "languageId": "python_glue_session"
    }
   },
   "outputs": [
    {
     "name": "stdout",
     "output_type": "stream",
     "text": [
      "+------------------------+-----------------+\n",
      "|product_category        |first_review_year|\n",
      "+------------------------+-----------------+\n",
      "|Video                   |1995             |\n",
      "|Music                   |1995             |\n",
      "|Books                   |1995             |\n",
      "|Video_DVD               |1996             |\n",
      "|Toys                    |1997             |\n",
      "|Sports                  |1997             |\n",
      "|Video_Games             |1997             |\n",
      "|Home_Entertainment      |1998             |\n",
      "|Camera                  |1998             |\n",
      "|Software                |1998             |\n",
      "|Pet_Products            |1998             |\n",
      "|Wireless                |1998             |\n",
      "|Office_Products         |1998             |\n",
      "|Home                    |1998             |\n",
      "|Electronics             |1999             |\n",
      "|Baby                    |1999             |\n",
      "|Tools                   |1999             |\n",
      "|Musical_Instruments     |1999             |\n",
      "|PC                      |1999             |\n",
      "|Automotive              |1999             |\n",
      "|Lawn_and_Garden         |1999             |\n",
      "|Digital_Ebook_Purchase  |1999             |\n",
      "|Grocery                 |1999             |\n",
      "|Shoes                   |1999             |\n",
      "|Health_&_Personal_Care  |1999             |\n",
      "|Outdoors                |1999             |\n",
      "|Home_Improvement        |1999             |\n",
      "|Furniture               |2000             |\n",
      "|Personal_Care_Appliances|2000             |\n",
      "|Apparel                 |2000             |\n",
      "|Kitchen                 |2000             |\n",
      "|Digital_Video_Download  |2000             |\n",
      "|Beauty                  |2000             |\n",
      "|Digital_Music_Purchase  |2000             |\n",
      "|Major_Appliances        |2000             |\n",
      "|Jewelry                 |2001             |\n",
      "|Mobile_Electronics      |2001             |\n",
      "|Watches                 |2001             |\n",
      "|Luggage                 |2002             |\n",
      "|Gift_Card               |2004             |\n",
      "|Digital_Video_Games     |2006             |\n",
      "|Digital_Software        |2008             |\n",
      "|Mobile_Apps             |2010             |\n",
      "+------------------------+-----------------+\n"
     ]
    }
   ],
   "source": [
    "# 使用 Spark SQL 查询每个产品类别的最早评论年份（自1995年起）\n",
    "df = spark.sql(\"\"\"\n",
    "    SELECT product_category, MIN(year) AS first_review_year\n",
    "    FROM {}.{}\n",
    "    WHERE year >= 1995\n",
    "    GROUP BY product_category\n",
    "    ORDER BY first_review_year \n",
    "\"\"\".format(database_name, table_name)\n",
    ")\n",
    "\n",
    "# 显示查询结果的前 50 行，并且关闭数据截断，即完整显示每一列的数据\n",
    "df.show(50, truncate=False)"
   ]
  },
  {
   "cell_type": "code",
   "execution_count": 12,
   "metadata": {
    "tags": [],
    "vscode": {
     "languageId": "python_glue_session"
    }
   },
   "outputs": [
    {
     "name": "stdout",
     "output_type": "stream",
     "text": [
      "\n"
     ]
    }
   ],
   "source": [
    "def get_x_y(df):\n",
    "    \"\"\"\n",
    "    从 DataFrame 中获取 X 和 Y 坐标；返回包含两个元素的元组\n",
    "    \"\"\"\n",
    "    # 对 'first_review_year' 列进行计数，并按照索引（即年份）进行排序\n",
    "    series = df[\"first_review_year\"].value_counts().sort_index()\n",
    "    # new_series = series.reindex(range(1,21)).fillna(0).astype(int)\n",
    "    # 返回年份（作为 X 坐标）和对应的计数（作为 Y 坐标）\n",
    "    return series.index, series.values"
   ]
  },
  {
   "cell_type": "code",
   "execution_count": 13,
   "metadata": {
    "tags": [],
    "vscode": {
     "languageId": "python_glue_session"
    }
   },
   "outputs": [
    {
     "name": "stdout",
     "output_type": "stream",
     "text": [
      "Int64Index([1995, 1996, 1997, 1998, 1999, 2000, 2001, 2002, 2004, 2006, 2008,\n",
      "            2010],\n",
      "           dtype='int64')\n",
      "[ 3  1  3  7 13  8  3  1  1  1  1  1]\n"
     ]
    }
   ],
   "source": [
    "X, Y = get_x_y(df.toPandas())\n",
    "print(X)\n",
    "print(Y)"
   ]
  },
  {
   "cell_type": "markdown",
   "metadata": {},
   "source": [
    "## 可视化"
   ]
  },
  {
   "cell_type": "code",
   "execution_count": 14,
   "metadata": {
    "vscode": {
     "languageId": "python_glue_session"
    }
   },
   "outputs": [
    {
     "data": {
      "image/png": "[encoded data removed]"
     },
     "metadata": {
      "image/png": {
       "height": 480,
       "width": 640
      }
     },
     "output_type": "display_data"
    }
   ],
   "source": [
    "\"\"\"\n",
    "这段代码的主要目的是创建一个线图，展示每年首次出现的产品类别的数量。\n",
    "图形的标题、x轴和y轴的标签都已经明确的设置。\n",
    "此外，线图下方的区域被填充为浅蓝色，x轴和y轴的刻度也进行了调整，x轴的刻度标签被旋转了45度，使其更易于阅读。\n",
    "最后，图形可以被保存为本地的PNG文件，也可以直接在Jupyter notebook中展示出来。\n",
    "\"\"\"\n",
    "\n",
    "# 清空当前的图形\n",
    "plt.clf()\n",
    "\n",
    "# 设置图形大小\n",
    "fig = plt.figure(figsize=(12, 5))\n",
    "# 获取当前的坐标轴\n",
    "ax = plt.gca()\n",
    "\n",
    "# 设置图形的标题，x轴和y轴的标签\n",
    "ax.set_title(\"Number Of First Product Category Reviews Per Year for Subset of Categories\")\n",
    "ax.set_xlabel(\"Year\")\n",
    "ax.set_ylabel(\"Count\")\n",
    "\n",
    "# 绘制线图，使用黑色的线，线宽为2，标记点的形状为圆形\n",
    "ax.plot(X, Y, color=\"black\", linewidth=2, marker=\"o\")\n",
    "# 填充线图下方的区域，使用浅蓝色\n",
    "ax.fill_between(X, [0] * len(X), Y, facecolor=\"lightblue\")\n",
    "\n",
    "# 设置坐标轴的刻度为整数\n",
    "ax.locator_params(integer=True)\n",
    "\n",
    "# 设置x轴和y轴的刻度\n",
    "ax.set_xticks(range(1995, 2016, 1))\n",
    "ax.set_yticks(range(0, max(Y) + 2, 1))\n",
    "\n",
    "# 旋转x轴的刻度标签45度\n",
    "plt.xticks(rotation=45)\n",
    "\n",
    "# 如果需要，可以导出图形\n",
    "# fig.savefig('first_reviews_per_year.png', dpi=300)\n",
    "\n",
    "# 显示图形\n",
    "plt.show()\n",
    "\n",
    "# 在 Jupyter notebook 中显示 Matplotlib 生成的图形\n",
    "%matplot plt"
   ]
  },
  {
   "cell_type": "markdown",
   "metadata": {},
   "source": [
    "# 4. 每个产品类别的评分明细（1-5）是多少？\n",
    "## _This query takes a minute or two.  Please be patient._\n"
   ]
  },
  {
   "cell_type": "code",
   "execution_count": 15,
   "metadata": {
    "vscode": {
     "languageId": "python_glue_session"
    }
   },
   "outputs": [
    {
     "name": "stdout",
     "output_type": "stream",
     "text": [
      "+----------------------+-----------+-------------+\n",
      "|product_category      |star_rating|count_reviews|\n",
      "+----------------------+-----------+-------------+\n",
      "|Apparel               |5          |3320651      |\n",
      "|Apparel               |4          |1147254      |\n",
      "|Apparel               |3          |623483       |\n",
      "|Apparel               |2          |369608       |\n",
      "|Apparel               |1          |445464       |\n",
      "|Automotive            |5          |2301688      |\n",
      "|Automotive            |4          |526898       |\n",
      "|Automotive            |3          |240023       |\n",
      "|Automotive            |2          |147843       |\n",
      "|Automotive            |1          |300024       |\n",
      "|Baby                  |5          |1078545      |\n",
      "|Baby                  |4          |289129       |\n",
      "|Baby                  |3          |150753       |\n",
      "|Baby                  |2          |101427       |\n",
      "|Baby                  |1          |145039       |\n",
      "|Beauty                |5          |3254946      |\n",
      "|Beauty                |4          |741443       |\n",
      "|Beauty                |3          |398405       |\n",
      "|Beauty                |2          |264029       |\n",
      "|Beauty                |1          |456898       |\n",
      "|Books                 |5          |13662131     |\n",
      "|Books                 |4          |3546319      |\n",
      "|Books                 |3          |1543611      |\n",
      "|Books                 |2          |861867       |\n",
      "|Books                 |1          |1112232      |\n",
      "|Camera                |5          |1085596      |\n",
      "|Camera                |4          |344163       |\n",
      "|Camera                |3          |144596       |\n",
      "|Camera                |2          |92396        |\n",
      "|Camera                |1          |172009       |\n",
      "|Digital_Ebook_Purchase|5          |11612150     |\n",
      "|Digital_Ebook_Purchase|4          |4311745      |\n",
      "|Digital_Ebook_Purchase|3          |1701301      |\n",
      "|Digital_Ebook_Purchase|2          |749678       |\n",
      "|Digital_Ebook_Purchase|1          |805891       |\n",
      "|Digital_Music_Purchase|5          |1467877      |\n",
      "|Digital_Music_Purchase|4          |231676       |\n",
      "|Digital_Music_Purchase|3          |70507        |\n",
      "|Digital_Music_Purchase|2          |28743        |\n",
      "|Digital_Music_Purchase|1          |53381        |\n",
      "|Digital_Software      |5          |46410        |\n",
      "|Digital_Software      |4          |16693        |\n",
      "|Digital_Software      |3          |8308         |\n",
      "|Digital_Software      |2          |6890         |\n",
      "|Digital_Software      |1          |23783        |\n",
      "|Digital_Video_Download|5          |3122980      |\n",
      "|Digital_Video_Download|4          |984221       |\n",
      "|Digital_Video_Download|3          |449260       |\n",
      "|Digital_Video_Download|2          |251930       |\n",
      "|Digital_Video_Download|1          |365352       |\n",
      "+----------------------+-----------+-------------+\n",
      "only showing top 50 rows\n"
     ]
    }
   ],
   "source": [
    "\"\"\"\n",
    "这段代码的主要目的是查询每个产品类别的每个星级评分的评论数量，并按照产品类别的升序、星级评分的降序以及评论数量的升序进行排序，显示前50条结果。\n",
    "\"\"\"\n",
    "\n",
    "# 使用 Spark SQL 查询每个产品类别的每个星级评分的评论数量\n",
    "df = spark.sql(\"\"\"\n",
    "    SELECT product_category, star_rating, COUNT(*) AS count_reviews\n",
    "    FROM {}.{}\n",
    "    GROUP BY  product_category, star_rating\n",
    "    ORDER BY  product_category ASC, star_rating DESC, count_reviews\n",
    "\"\"\".format(database_name, table_name)\n",
    ")\n",
    "\n",
    "# 显示查询结果的前 50 行，并且关闭数据截断，即完整显示每一列的数据\n",
    "df.show(50, truncate=False)"
   ]
  },
  {
   "cell_type": "markdown",
   "metadata": {},
   "source": [
    "## 准备显示每个产品类别的星级评分比例百分比水平条形图"
   ]
  },
  {
   "cell_type": "code",
   "execution_count": 16,
   "metadata": {
    "vscode": {
     "languageId": "python_glue_session"
    }
   },
   "outputs": [
    {
     "name": "stdout",
     "output_type": "stream",
     "text": [
      "160796570\n"
     ]
    }
   ],
   "source": [
    "\"\"\"\n",
    "这段代码的主要目的是分析每个产品类别以及每个星级评分下的评论数量。\n",
    "首先，将 Spark DataFrame 转换为 Pandas DataFrame，然后按产品类别以及星级评分进行分组。\n",
    "接着，计算每个星级评分下的评论数量之和，以及所有星级评分的评论数量之和。\n",
    "最后，我们打印出所有星级评分的评论数量之和。\n",
    "\"\"\"\n",
    "\n",
    "# 将 Spark DataFrame 转换为 Pandas DataFrame，然后按产品类别以及星级评分进行分组\n",
    "grouped_category = df.toPandas().groupby(\"product_category\")\n",
    "grouped_star = df.toPandas().groupby(\"star_rating\")\n",
    "\n",
    "# 计算每个星级评分下的评论数量之和\n",
    "df_sum = df.toPandas().groupby([\"star_rating\"]).sum()\n",
    "\n",
    "# 计算所有星级评分的评论数量之和\n",
    "total = df_sum[\"count_reviews\"].sum()\n",
    "# 打印结果\n",
    "print(total)"
   ]
  },
  {
   "cell_type": "code",
   "execution_count": null,
   "metadata": {
    "vscode": {
     "languageId": "python_glue_session"
    }
   },
   "outputs": [],
   "source": [
    "# Create dictionary of product categories and array of star rating distribution per category\n",
    "distribution = {}\n",
    "count_reviews_per_star = []\n",
    "i = 0\n",
    "\n",
    "for category, ratings in grouped_category:\n",
    "    count_reviews_per_star = []\n",
    "    for star in ratings[\"star_rating\"]:\n",
    "        count_reviews_per_star.append(ratings.at[i, \"count_reviews\"])\n",
    "        i = i + 1\n",
    "    distribution[category] = count_reviews_per_star\n",
    "\n",
    "# Check if distribution has been created succesfully\n",
    "print(distribution)"
   ]
  },
  {
   "cell_type": "code",
   "execution_count": null,
   "metadata": {
    "vscode": {
     "languageId": "python_glue_session"
    }
   },
   "outputs": [],
   "source": [
    "# Sort distribution by average rating per category\n",
    "sorted_distribution = {}\n",
    "\n",
    "average_star_ratings.iloc[:, 0]\n",
    "for index, value in average_star_ratings.iloc[:, 0].items():\n",
    "    sorted_distribution[value] = distribution[value]"
   ]
  },
  {
   "cell_type": "code",
   "execution_count": null,
   "metadata": {
    "vscode": {
     "languageId": "python_glue_session"
    }
   },
   "outputs": [],
   "source": [
    "df_sorted_distribution_pct = pd.DataFrame(sorted_distribution).transpose().apply(\n",
    "    lambda num_ratings: num_ratings/sum(num_ratings)*100, axis=1\n",
    ")\n",
    "df_sorted_distribution_pct.columns=['5', '4', '3', '2', '1']\n",
    "df_sorted_distribution_pct"
   ]
  },
  {
   "cell_type": "markdown",
   "metadata": {},
   "source": [
    "## Visualization"
   ]
  },
  {
   "cell_type": "code",
   "execution_count": null,
   "metadata": {
    "vscode": {
     "languageId": "python_glue_session"
    }
   },
   "outputs": [],
   "source": [
    "plt.clf()\n",
    "\n",
    "categories = df_sorted_distribution_pct.index\n",
    "\n",
    "# Plot bars\n",
    "if len(categories) > 10:\n",
    "    plt.figure(figsize=(10,10))\n",
    "else: \n",
    "    plt.figure(figsize=(10,5))\n",
    "\n",
    "df_sorted_distribution_pct.plot(kind=\"barh\", \n",
    "                                stacked=True, \n",
    "                                edgecolor='white',\n",
    "                                width=1.0,\n",
    "                                color=['green', \n",
    "                                       'orange', \n",
    "                                       'blue', \n",
    "                                       'purple', \n",
    "                                       'red'])\n",
    "\n",
    "plt.title(\"Distribution of Reviews Per Rating Per Category\", \n",
    "          fontsize='16')\n",
    "\n",
    "plt.legend(bbox_to_anchor=(1.04,1), \n",
    "           loc=\"upper left\",\n",
    "           labels=['5-Star Ratings', \n",
    "                   '4-Star Ratings', \n",
    "                   '3-Star Ratings', \n",
    "                   '2-Star Ratings', \n",
    "                   '1-Star Ratings'])\n",
    "\n",
    "plt.xlabel(\"% Breakdown of Star Ratings\", fontsize='14')\n",
    "plt.gca().invert_yaxis()\n",
    "plt.tight_layout()\n",
    "\n",
    "plt.show()\n",
    "\n",
    "%matplot plt"
   ]
  },
  {
   "cell_type": "markdown",
   "metadata": {},
   "source": [
    "# 5. How Many Reviews per Star Rating? (5, 4, 3, 2, 1)\n",
    "## _This query takes a minute or two.  Please be patient._"
   ]
  },
  {
   "cell_type": "code",
   "execution_count": null,
   "metadata": {
    "vscode": {
     "languageId": "python_glue_session"
    }
   },
   "outputs": [],
   "source": [
    "# SQL statement\n",
    "df = spark.sql(\"\"\"\n",
    "    SELECT star_rating, COUNT(*) AS count_reviews\n",
    "    FROM {}.{}\n",
    "    GROUP BY star_rating\n",
    "    ORDER BY star_rating DESC, count_reviews \n",
    "\"\"\".format(database_name, table_name)\n",
    ")\n",
    "\n",
    "df.show()"
   ]
  },
  {
   "cell_type": "code",
   "execution_count": null,
   "metadata": {
    "vscode": {
     "languageId": "python_glue_session"
    }
   },
   "outputs": [],
   "source": [
    "plt.clf()\n",
    "\n",
    "chart = df.toPandas().plot.bar(\n",
    "    x=\"star_rating\", y=\"count_reviews\", rot=\"0\", figsize=(10, 5), title=\"Review Count by Star Ratings\", legend=False\n",
    ")\n",
    "\n",
    "plt.xlabel(\"Star Rating\")\n",
    "plt.ylabel(\"Review Count\")\n",
    "\n",
    "plt.show()\n",
    "\n",
    "%matplot plt"
   ]
  },
  {
   "cell_type": "markdown",
   "metadata": {},
   "source": [
    "# 6. How Did Star Ratings Change Over Time?\n",
    "Is there a drop-off point for certain product categories throughout the year?"
   ]
  },
  {
   "cell_type": "markdown",
   "metadata": {},
   "source": [
    "## Average Star Rating Across All Product Categories\n",
    "## _This query takes a minute or two.  Please be patient._"
   ]
  },
  {
   "cell_type": "code",
   "execution_count": null,
   "metadata": {
    "vscode": {
     "languageId": "python_glue_session"
    }
   },
   "outputs": [],
   "source": [
    "# SQL statement\n",
    "df = spark.sql(\"\"\"\n",
    "    SELECT year, ROUND(AVG(star_rating),4) AS avg_rating\n",
    "    FROM {}.{}\n",
    "    WHERE year >= 1995\n",
    "    GROUP BY year\n",
    "    ORDER BY year\n",
    "\"\"\".format(database_name, table_name)\n",
    ")\n",
    "\n",
    "df.show(50, truncate=False)"
   ]
  },
  {
   "cell_type": "code",
   "execution_count": null,
   "metadata": {
    "vscode": {
     "languageId": "python_glue_session"
    }
   },
   "outputs": [],
   "source": [
    "df.toPandas()[\"year\"] = pd.to_datetime(df.toPandas()[\"year\"], format=\"%Y\").dt.year"
   ]
  },
  {
   "cell_type": "markdown",
   "metadata": {},
   "source": [
    "## Visualization"
   ]
  },
  {
   "cell_type": "code",
   "execution_count": null,
   "metadata": {
    "vscode": {
     "languageId": "python_glue_session"
    }
   },
   "outputs": [],
   "source": [
    "plt.clf()\n",
    "\n",
    "fig = plt.gcf()\n",
    "fig.set_size_inches(12, 5)\n",
    "\n",
    "fig.suptitle(\"Average Star Rating Over Time (Across Subset of Product Categories)\")\n",
    "\n",
    "ax = plt.gca()\n",
    "# ax = plt.gca().set_xticks(df['year'])\n",
    "ax.locator_params(integer=True)\n",
    "ax.set_xticks(df.toPandas()[\"year\"].unique())\n",
    "\n",
    "df.toPandas().plot(kind=\"line\", x=\"year\", y=\"avg_rating\", color=\"red\", ax=ax)\n",
    "\n",
    "# plt.xticks(range(1995, 2016, 1))\n",
    "# plt.yticks(range(0,6,1))\n",
    "plt.xlabel(\"Years\")\n",
    "plt.ylabel(\"Average Star Rating\")\n",
    "plt.xticks(rotation=45)\n",
    "\n",
    "# fig.savefig('average-rating.png', dpi=300)\n",
    "plt.show()\n",
    "\n",
    "%matplot plt"
   ]
  },
  {
   "cell_type": "markdown",
   "metadata": {},
   "source": [
    "## Average Star Rating Per Product Categories Across Time\n",
    "## _This query takes a minute or two.  Please be patient._"
   ]
  },
  {
   "cell_type": "code",
   "execution_count": null,
   "metadata": {
    "vscode": {
     "languageId": "python_glue_session"
    }
   },
   "outputs": [],
   "source": [
    "# SQL statement\n",
    "df = spark.sql(\"\"\"\n",
    "    SELECT product_category, year, ROUND(AVG(star_rating), 4) AS avg_rating_category\n",
    "    FROM {}.{}\n",
    "    WHERE year >= 1995\n",
    "    GROUP BY product_category, year\n",
    "    ORDER BY year \n",
    "\"\"\".format(database_name, table_name)\n",
    ")\n",
    "\n",
    "df.show(50, truncate=False)"
   ]
  },
  {
   "cell_type": "markdown",
   "metadata": {},
   "source": [
    "## Visualization"
   ]
  },
  {
   "cell_type": "code",
   "execution_count": null,
   "metadata": {
    "vscode": {
     "languageId": "python_glue_session"
    }
   },
   "outputs": [],
   "source": [
    "def plot_categories(df):\n",
    "    df_categories = df[\"product_category\"].unique()\n",
    "    for category in df_categories:\n",
    "        # print(category)\n",
    "        df_plot = df.loc[df[\"product_category\"] == category]\n",
    "        df_plot.plot(\n",
    "            kind=\"line\",\n",
    "            x=\"year\",\n",
    "            y=\"avg_rating_category\",\n",
    "            c=np.random.rand(\n",
    "                3,\n",
    "            ),\n",
    "            ax=ax,\n",
    "            label=category,\n",
    "        )"
   ]
  },
  {
   "cell_type": "code",
   "execution_count": null,
   "metadata": {
    "vscode": {
     "languageId": "python_glue_session"
    }
   },
   "outputs": [],
   "source": [
    "plt.clf()\n",
    "\n",
    "fig = plt.gcf()\n",
    "fig.set_size_inches(12, 5)\n",
    "\n",
    "fig.suptitle(\"Average Star Rating Over Time Across Subset Of Categories\")\n",
    "\n",
    "ax = plt.gca()\n",
    "\n",
    "ax.locator_params(integer=True)\n",
    "ax.set_xticks(df.toPandas()[\"year\"].unique())\n",
    "\n",
    "plot_categories(df.toPandas())\n",
    "\n",
    "plt.xlabel(\"Year\")\n",
    "plt.ylabel(\"Average Star Rating\")\n",
    "plt.legend(bbox_to_anchor=(0, -0.15, 1, 0), loc=2, ncol=2, mode=\"expand\", borderaxespad=0)\n",
    "\n",
    "# fig.savefig('average_rating_category_all_data.png', dpi=300)\n",
    "plt.show()\n",
    "\n",
    "%matplot plt"
   ]
  },
  {
   "cell_type": "markdown",
   "metadata": {},
   "source": [
    "# 7. Which Star Ratings (1-5) are Most Helpful?\n",
    "## _This query takes a minute or two.  Please be patient._"
   ]
  },
  {
   "cell_type": "code",
   "execution_count": null,
   "metadata": {
    "vscode": {
     "languageId": "python_glue_session"
    }
   },
   "outputs": [],
   "source": [
    "# SQL statement\n",
    "df = spark.sql(\"\"\"\n",
    "    SELECT star_rating, AVG(helpful_votes) AS avg_helpful_votes\n",
    "    FROM {}.{}\n",
    "    GROUP BY  star_rating\n",
    "    ORDER BY  star_rating ASC\n",
    "\"\"\".format(database_name, table_name)\n",
    ")\n",
    "\n",
    "df.show()"
   ]
  },
  {
   "cell_type": "markdown",
   "metadata": {},
   "source": [
    "## Visualization"
   ]
  },
  {
   "cell_type": "code",
   "execution_count": null,
   "metadata": {
    "vscode": {
     "languageId": "python_glue_session"
    }
   },
   "outputs": [],
   "source": [
    "plt.clf()\n",
    "\n",
    "chart = df.toPandas().plot.bar(\n",
    "    x=\"star_rating\", y=\"avg_helpful_votes\", rot=\"0\", figsize=(10, 5), title=\"Helpfulness Of Star Ratings\", legend=False\n",
    ")\n",
    "\n",
    "plt.xlabel(\"Star Rating\")\n",
    "plt.ylabel(\"Average Helpful Votes\")\n",
    "\n",
    "plt.show()\n",
    "\n",
    "%matplot plt"
   ]
  },
  {
   "cell_type": "markdown",
   "metadata": {},
   "source": [
    "# 8. Which Products have Most Helpful Reviews?  How Long are the Most Helpful Reviews?\n",
    "## _This query takes a minute or two.  Please be patient._"
   ]
  },
  {
   "cell_type": "code",
   "execution_count": null,
   "metadata": {
    "vscode": {
     "languageId": "python_glue_session"
    }
   },
   "outputs": [],
   "source": [
    "# SQL statement\n",
    "df = spark.sql(\"\"\"\n",
    "    SELECT product_title, helpful_votes, star_rating,\n",
    "           LENGTH(review_body) AS review_body_length,\n",
    "           SUBSTR(review_body, 1, 100) AS review_body_substr\n",
    "    FROM {}.{}\n",
    "    ORDER BY helpful_votes DESC LIMIT 10 \n",
    "\"\"\".format(database_name, table_name)\n",
    ")\n",
    "\n",
    "df.show(50, truncate=False)"
   ]
  },
  {
   "cell_type": "markdown",
   "metadata": {},
   "source": [
    "# 9. What is the Ratio of Positive (5, 4) to Negative (3, 2 ,1) Reviews?\n",
    "## _This query takes a minute or two.  Please be patient._"
   ]
  },
  {
   "cell_type": "code",
   "execution_count": null,
   "metadata": {
    "vscode": {
     "languageId": "python_glue_session"
    }
   },
   "outputs": [],
   "source": [
    "# SQL statement\n",
    "df = spark.sql(\"\"\"\n",
    "    SELECT (CAST(positive_review_count AS DOUBLE) / CAST(negative_review_count AS DOUBLE)) AS positive_to_negative_sentiment_ratio\n",
    "    FROM (\n",
    "      SELECT count(*) AS positive_review_count\n",
    "      FROM {}.{}\n",
    "      WHERE star_rating >= 4\n",
    "\n",
    "    ), (\n",
    "      SELECT count(*) AS negative_review_count\n",
    "      FROM {}.{}\n",
    "      WHERE star_rating < 4 \n",
    "    )\n",
    "\"\"\".format(database_name, table_name, database_name, table_name)\n",
    ")\n",
    "\n",
    "df.show()"
   ]
  },
  {
   "cell_type": "markdown",
   "metadata": {},
   "source": [
    "# 10. Which Customers are Abusing the Review System by Repeatedly Reviewing the Same Product?  What Was Their Average Star Rating for Each Product?\n",
    "## _This query takes a minute or two.  Please be patient._"
   ]
  },
  {
   "cell_type": "code",
   "execution_count": null,
   "metadata": {
    "vscode": {
     "languageId": "python_glue_session"
    }
   },
   "outputs": [],
   "source": [
    "# SQL statement\n",
    "df = spark.sql(\"\"\"\n",
    "    SELECT customer_id, product_category, product_title, \n",
    "    ROUND(AVG(star_rating),4) AS avg_star_rating, COUNT(*) AS review_count \n",
    "    FROM {}.{} \n",
    "    GROUP BY customer_id, product_category, product_title \n",
    "    HAVING COUNT(*) > 1 \n",
    "    ORDER BY review_count DESC\n",
    "    LIMIT 50\n",
    "\"\"\".format(database_name, table_name)\n",
    ")\n",
    "\n",
    "df.show(50, truncate=False)"
   ]
  },
  {
   "cell_type": "code",
   "execution_count": null,
   "metadata": {
    "vscode": {
     "languageId": "plaintext"
    }
   },
   "outputs": [],
   "source": [
    "%stop_session"
   ]
  },
  {
   "cell_type": "markdown",
   "metadata": {
    "vscode": {
     "languageId": "python_glue_session"
    }
   },
   "source": [
    "# Conclusions\n",
    "\n",
    "Through this notebook, we have seen how you can use AWS Glue interactive sessions in SageMaker Studio to process large datasets at scale for ETL and EDA tasks. Benefits of this development paradigm include...\n",
    "\n",
    "1. natively distributed processing which can scale with your datasets \n",
    "2. no need to manage cluster infrastructure\n",
    "3. integration with SageMaker studio for a one stop shop for the ML lifecycle"
   ]
  },
  {
   "cell_type": "markdown",
   "metadata": {
    "tags": []
   },
   "source": [
    "# Release Resources"
   ]
  },
  {
   "cell_type": "code",
   "execution_count": null,
   "metadata": {},
   "outputs": [],
   "source": [
    "%%html\n",
    "\n",
    "<p><b>Shutting down your kernel for this notebook to release resources.</b></p>\n",
    "<button class=\"sm-command-button\" data-commandlinker-command=\"kernelmenu:shutdown\" style=\"display:none;\">Shutdown Kernel</button>\n",
    "        \n",
    "<script>\n",
    "try {\n",
    "    els = document.getElementsByClassName(\"sm-command-button\");\n",
    "    els[0].click();\n",
    "}\n",
    "catch(err) {\n",
    "    // NoOp\n",
    "}    \n",
    "</script>"
   ]
  }
 ],
 "metadata": {
  "availableInstances": [
   {
    "_defaultOrder": 0,
    "_isFastLaunch": true,
    "category": "General purpose",
    "gpuNum": 0,
    "hideHardwareSpecs": false,
    "memoryGiB": 4,
    "name": "ml.t3.medium",
    "vcpuNum": 2
   },
   {
    "_defaultOrder": 1,
    "_isFastLaunch": false,
    "category": "General purpose",
    "gpuNum": 0,
    "hideHardwareSpecs": false,
    "memoryGiB": 8,
    "name": "ml.t3.large",
    "vcpuNum": 2
   },
   {
    "_defaultOrder": 2,
    "_isFastLaunch": false,
    "category": "General purpose",
    "gpuNum": 0,
    "hideHardwareSpecs": false,
    "memoryGiB": 16,
    "name": "ml.t3.xlarge",
    "vcpuNum": 4
   },
   {
    "_defaultOrder": 3,
    "_isFastLaunch": false,
    "category": "General purpose",
    "gpuNum": 0,
    "hideHardwareSpecs": false,
    "memoryGiB": 32,
    "name": "ml.t3.2xlarge",
    "vcpuNum": 8
   },
   {
    "_defaultOrder": 4,
    "_isFastLaunch": true,
    "category": "General purpose",
    "gpuNum": 0,
    "hideHardwareSpecs": false,
    "memoryGiB": 8,
    "name": "ml.m5.large",
    "vcpuNum": 2
   },
   {
    "_defaultOrder": 5,
    "_isFastLaunch": false,
    "category": "General purpose",
    "gpuNum": 0,
    "hideHardwareSpecs": false,
    "memoryGiB": 16,
    "name": "ml.m5.xlarge",
    "vcpuNum": 4
   },
   {
    "_defaultOrder": 6,
    "_isFastLaunch": false,
    "category": "General purpose",
    "gpuNum": 0,
    "hideHardwareSpecs": false,
    "memoryGiB": 32,
    "name": "ml.m5.2xlarge",
    "vcpuNum": 8
   },
   {
    "_defaultOrder": 7,
    "_isFastLaunch": false,
    "category": "General purpose",
    "gpuNum": 0,
    "hideHardwareSpecs": false,
    "memoryGiB": 64,
    "name": "ml.m5.4xlarge",
    "vcpuNum": 16
   },
   {
    "_defaultOrder": 8,
    "_isFastLaunch": false,
    "category": "General purpose",
    "gpuNum": 0,
    "hideHardwareSpecs": false,
    "memoryGiB": 128,
    "name": "ml.m5.8xlarge",
    "vcpuNum": 32
   },
   {
    "_defaultOrder": 9,
    "_isFastLaunch": false,
    "category": "General purpose",
    "gpuNum": 0,
    "hideHardwareSpecs": false,
    "memoryGiB": 192,
    "name": "ml.m5.12xlarge",
    "vcpuNum": 48
   },
   {
    "_defaultOrder": 10,
    "_isFastLaunch": false,
    "category": "General purpose",
    "gpuNum": 0,
    "hideHardwareSpecs": false,
    "memoryGiB": 256,
    "name": "ml.m5.16xlarge",
    "vcpuNum": 64
   },
   {
    "_defaultOrder": 11,
    "_isFastLaunch": false,
    "category": "General purpose",
    "gpuNum": 0,
    "hideHardwareSpecs": false,
    "memoryGiB": 384,
    "name": "ml.m5.24xlarge",
    "vcpuNum": 96
   },
   {
    "_defaultOrder": 12,
    "_isFastLaunch": false,
    "category": "General purpose",
    "gpuNum": 0,
    "hideHardwareSpecs": false,
    "memoryGiB": 8,
    "name": "ml.m5d.large",
    "vcpuNum": 2
   },
   {
    "_defaultOrder": 13,
    "_isFastLaunch": false,
    "category": "General purpose",
    "gpuNum": 0,
    "hideHardwareSpecs": false,
    "memoryGiB": 16,
    "name": "ml.m5d.xlarge",
    "vcpuNum": 4
   },
   {
    "_defaultOrder": 14,
    "_isFastLaunch": false,
    "category": "General purpose",
    "gpuNum": 0,
    "hideHardwareSpecs": false,
    "memoryGiB": 32,
    "name": "ml.m5d.2xlarge",
    "vcpuNum": 8
   },
   {
    "_defaultOrder": 15,
    "_isFastLaunch": false,
    "category": "General purpose",
    "gpuNum": 0,
    "hideHardwareSpecs": false,
    "memoryGiB": 64,
    "name": "ml.m5d.4xlarge",
    "vcpuNum": 16
   },
   {
    "_defaultOrder": 16,
    "_isFastLaunch": false,
    "category": "General purpose",
    "gpuNum": 0,
    "hideHardwareSpecs": false,
    "memoryGiB": 128,
    "name": "ml.m5d.8xlarge",
    "vcpuNum": 32
   },
   {
    "_defaultOrder": 17,
    "_isFastLaunch": false,
    "category": "General purpose",
    "gpuNum": 0,
    "hideHardwareSpecs": false,
    "memoryGiB": 192,
    "name": "ml.m5d.12xlarge",
    "vcpuNum": 48
   },
   {
    "_defaultOrder": 18,
    "_isFastLaunch": false,
    "category": "General purpose",
    "gpuNum": 0,
    "hideHardwareSpecs": false,
    "memoryGiB": 256,
    "name": "ml.m5d.16xlarge",
    "vcpuNum": 64
   },
   {
    "_defaultOrder": 19,
    "_isFastLaunch": false,
    "category": "General purpose",
    "gpuNum": 0,
    "hideHardwareSpecs": false,
    "memoryGiB": 384,
    "name": "ml.m5d.24xlarge",
    "vcpuNum": 96
   },
   {
    "_defaultOrder": 20,
    "_isFastLaunch": false,
    "category": "General purpose",
    "gpuNum": 0,
    "hideHardwareSpecs": true,
    "memoryGiB": 0,
    "name": "ml.geospatial.interactive",
    "supportedImageNames": [
     "sagemaker-geospatial-v1-0"
    ],
    "vcpuNum": 0
   },
   {
    "_defaultOrder": 21,
    "_isFastLaunch": true,
    "category": "Compute optimized",
    "gpuNum": 0,
    "hideHardwareSpecs": false,
    "memoryGiB": 4,
    "name": "ml.c5.large",
    "vcpuNum": 2
   },
   {
    "_defaultOrder": 22,
    "_isFastLaunch": false,
    "category": "Compute optimized",
    "gpuNum": 0,
    "hideHardwareSpecs": false,
    "memoryGiB": 8,
    "name": "ml.c5.xlarge",
    "vcpuNum": 4
   },
   {
    "_defaultOrder": 23,
    "_isFastLaunch": false,
    "category": "Compute optimized",
    "gpuNum": 0,
    "hideHardwareSpecs": false,
    "memoryGiB": 16,
    "name": "ml.c5.2xlarge",
    "vcpuNum": 8
   },
   {
    "_defaultOrder": 24,
    "_isFastLaunch": false,
    "category": "Compute optimized",
    "gpuNum": 0,
    "hideHardwareSpecs": false,
    "memoryGiB": 32,
    "name": "ml.c5.4xlarge",
    "vcpuNum": 16
   },
   {
    "_defaultOrder": 25,
    "_isFastLaunch": false,
    "category": "Compute optimized",
    "gpuNum": 0,
    "hideHardwareSpecs": false,
    "memoryGiB": 72,
    "name": "ml.c5.9xlarge",
    "vcpuNum": 36
   },
   {
    "_defaultOrder": 26,
    "_isFastLaunch": false,
    "category": "Compute optimized",
    "gpuNum": 0,
    "hideHardwareSpecs": false,
    "memoryGiB": 96,
    "name": "ml.c5.12xlarge",
    "vcpuNum": 48
   },
   {
    "_defaultOrder": 27,
    "_isFastLaunch": false,
    "category": "Compute optimized",
    "gpuNum": 0,
    "hideHardwareSpecs": false,
    "memoryGiB": 144,
    "name": "ml.c5.18xlarge",
    "vcpuNum": 72
   },
   {
    "_defaultOrder": 28,
    "_isFastLaunch": false,
    "category": "Compute optimized",
    "gpuNum": 0,
    "hideHardwareSpecs": false,
    "memoryGiB": 192,
    "name": "ml.c5.24xlarge",
    "vcpuNum": 96
   },
   {
    "_defaultOrder": 29,
    "_isFastLaunch": true,
    "category": "Accelerated computing",
    "gpuNum": 1,
    "hideHardwareSpecs": false,
    "memoryGiB": 16,
    "name": "ml.g4dn.xlarge",
    "vcpuNum": 4
   },
   {
    "_defaultOrder": 30,
    "_isFastLaunch": false,
    "category": "Accelerated computing",
    "gpuNum": 1,
    "hideHardwareSpecs": false,
    "memoryGiB": 32,
    "name": "ml.g4dn.2xlarge",
    "vcpuNum": 8
   },
   {
    "_defaultOrder": 31,
    "_isFastLaunch": false,
    "category": "Accelerated computing",
    "gpuNum": 1,
    "hideHardwareSpecs": false,
    "memoryGiB": 64,
    "name": "ml.g4dn.4xlarge",
    "vcpuNum": 16
   },
   {
    "_defaultOrder": 32,
    "_isFastLaunch": false,
    "category": "Accelerated computing",
    "gpuNum": 1,
    "hideHardwareSpecs": false,
    "memoryGiB": 128,
    "name": "ml.g4dn.8xlarge",
    "vcpuNum": 32
   },
   {
    "_defaultOrder": 33,
    "_isFastLaunch": false,
    "category": "Accelerated computing",
    "gpuNum": 4,
    "hideHardwareSpecs": false,
    "memoryGiB": 192,
    "name": "ml.g4dn.12xlarge",
    "vcpuNum": 48
   },
   {
    "_defaultOrder": 34,
    "_isFastLaunch": false,
    "category": "Accelerated computing",
    "gpuNum": 1,
    "hideHardwareSpecs": false,
    "memoryGiB": 256,
    "name": "ml.g4dn.16xlarge",
    "vcpuNum": 64
   },
   {
    "_defaultOrder": 35,
    "_isFastLaunch": false,
    "category": "Accelerated computing",
    "gpuNum": 1,
    "hideHardwareSpecs": false,
    "memoryGiB": 61,
    "name": "ml.p3.2xlarge",
    "vcpuNum": 8
   },
   {
    "_defaultOrder": 36,
    "_isFastLaunch": false,
    "category": "Accelerated computing",
    "gpuNum": 4,
    "hideHardwareSpecs": false,
    "memoryGiB": 244,
    "name": "ml.p3.8xlarge",
    "vcpuNum": 32
   },
   {
    "_defaultOrder": 37,
    "_isFastLaunch": false,
    "category": "Accelerated computing",
    "gpuNum": 8,
    "hideHardwareSpecs": false,
    "memoryGiB": 488,
    "name": "ml.p3.16xlarge",
    "vcpuNum": 64
   },
   {
    "_defaultOrder": 38,
    "_isFastLaunch": false,
    "category": "Accelerated computing",
    "gpuNum": 8,
    "hideHardwareSpecs": false,
    "memoryGiB": 768,
    "name": "ml.p3dn.24xlarge",
    "vcpuNum": 96
   },
   {
    "_defaultOrder": 39,
    "_isFastLaunch": false,
    "category": "Memory Optimized",
    "gpuNum": 0,
    "hideHardwareSpecs": false,
    "memoryGiB": 16,
    "name": "ml.r5.large",
    "vcpuNum": 2
   },
   {
    "_defaultOrder": 40,
    "_isFastLaunch": false,
    "category": "Memory Optimized",
    "gpuNum": 0,
    "hideHardwareSpecs": false,
    "memoryGiB": 32,
    "name": "ml.r5.xlarge",
    "vcpuNum": 4
   },
   {
    "_defaultOrder": 41,
    "_isFastLaunch": false,
    "category": "Memory Optimized",
    "gpuNum": 0,
    "hideHardwareSpecs": false,
    "memoryGiB": 64,
    "name": "ml.r5.2xlarge",
    "vcpuNum": 8
   },
   {
    "_defaultOrder": 42,
    "_isFastLaunch": false,
    "category": "Memory Optimized",
    "gpuNum": 0,
    "hideHardwareSpecs": false,
    "memoryGiB": 128,
    "name": "ml.r5.4xlarge",
    "vcpuNum": 16
   },
   {
    "_defaultOrder": 43,
    "_isFastLaunch": false,
    "category": "Memory Optimized",
    "gpuNum": 0,
    "hideHardwareSpecs": false,
    "memoryGiB": 256,
    "name": "ml.r5.8xlarge",
    "vcpuNum": 32
   },
   {
    "_defaultOrder": 44,
    "_isFastLaunch": false,
    "category": "Memory Optimized",
    "gpuNum": 0,
    "hideHardwareSpecs": false,
    "memoryGiB": 384,
    "name": "ml.r5.12xlarge",
    "vcpuNum": 48
   },
   {
    "_defaultOrder": 45,
    "_isFastLaunch": false,
    "category": "Memory Optimized",
    "gpuNum": 0,
    "hideHardwareSpecs": false,
    "memoryGiB": 512,
    "name": "ml.r5.16xlarge",
    "vcpuNum": 64
   },
   {
    "_defaultOrder": 46,
    "_isFastLaunch": false,
    "category": "Memory Optimized",
    "gpuNum": 0,
    "hideHardwareSpecs": false,
    "memoryGiB": 768,
    "name": "ml.r5.24xlarge",
    "vcpuNum": 96
   },
   {
    "_defaultOrder": 47,
    "_isFastLaunch": false,
    "category": "Accelerated computing",
    "gpuNum": 1,
    "hideHardwareSpecs": false,
    "memoryGiB": 16,
    "name": "ml.g5.xlarge",
    "vcpuNum": 4
   },
   {
    "_defaultOrder": 48,
    "_isFastLaunch": false,
    "category": "Accelerated computing",
    "gpuNum": 1,
    "hideHardwareSpecs": false,
    "memoryGiB": 32,
    "name": "ml.g5.2xlarge",
    "vcpuNum": 8
   },
   {
    "_defaultOrder": 49,
    "_isFastLaunch": false,
    "category": "Accelerated computing",
    "gpuNum": 1,
    "hideHardwareSpecs": false,
    "memoryGiB": 64,
    "name": "ml.g5.4xlarge",
    "vcpuNum": 16
   },
   {
    "_defaultOrder": 50,
    "_isFastLaunch": false,
    "category": "Accelerated computing",
    "gpuNum": 1,
    "hideHardwareSpecs": false,
    "memoryGiB": 128,
    "name": "ml.g5.8xlarge",
    "vcpuNum": 32
   },
   {
    "_defaultOrder": 51,
    "_isFastLaunch": false,
    "category": "Accelerated computing",
    "gpuNum": 1,
    "hideHardwareSpecs": false,
    "memoryGiB": 256,
    "name": "ml.g5.16xlarge",
    "vcpuNum": 64
   },
   {
    "_defaultOrder": 52,
    "_isFastLaunch": false,
    "category": "Accelerated computing",
    "gpuNum": 4,
    "hideHardwareSpecs": false,
    "memoryGiB": 192,
    "name": "ml.g5.12xlarge",
    "vcpuNum": 48
   },
   {
    "_defaultOrder": 53,
    "_isFastLaunch": false,
    "category": "Accelerated computing",
    "gpuNum": 4,
    "hideHardwareSpecs": false,
    "memoryGiB": 384,
    "name": "ml.g5.24xlarge",
    "vcpuNum": 96
   },
   {
    "_defaultOrder": 54,
    "_isFastLaunch": false,
    "category": "Accelerated computing",
    "gpuNum": 8,
    "hideHardwareSpecs": false,
    "memoryGiB": 768,
    "name": "ml.g5.48xlarge",
    "vcpuNum": 192
   },
   {
    "_defaultOrder": 55,
    "_isFastLaunch": false,
    "category": "Accelerated computing",
    "gpuNum": 8,
    "hideHardwareSpecs": false,
    "memoryGiB": 1152,
    "name": "ml.p4d.24xlarge",
    "vcpuNum": 96
   },
   {
    "_defaultOrder": 56,
    "_isFastLaunch": false,
    "category": "Accelerated computing",
    "gpuNum": 8,
    "hideHardwareSpecs": false,
    "memoryGiB": 1152,
    "name": "ml.p4de.24xlarge",
    "vcpuNum": 96
   }
  ],
  "instance_type": "ml.m5.2xlarge",
  "kernelspec": {
   "display_name": "Glue Python [PySpark and Ray] (SparkAnalytics 1.0)",
   "language": "python",
   "name": "conda-env-sm_glue_is-glue_pyspark__SAGEMAKER_INTERNAL__arn:aws:sagemaker:us-east-1:081325390199:image/sagemaker-sparkanalytics-v1"
  },
  "language_info": {
   "codemirror_mode": {
    "name": "python",
    "version": 3
   },
   "file_extension": ".py",
   "mimetype": "text/x-python",
   "name": "Python_Glue_Session",
   "pygments_lexer": "python3"
  }
 },
 "nbformat": 4,
 "nbformat_minor": 4
}
