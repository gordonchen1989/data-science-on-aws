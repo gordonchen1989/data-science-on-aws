{
 "cells": [
  {
   "cell_type": "markdown",
   "metadata": {},
   "source": [
    "# Setup All Workshop Dependencies\n",
    "\n",
    "## _Note:  This Notebook Will Take A Few Minutes To Complete._\n",
    "\n",
    "## _Please Be Patient._\n",
    "\n",
    "## _==> Please ignore all WARNINGs and ERRORs from the `pip install`'s below. <==_"
   ]
  },
  {
   "cell_type": "markdown",
   "metadata": {
    "tags": []
   },
   "source": [
    "<a name='1'></a>\n",
    "## Set up Kernel and Required Dependencies"
   ]
  },
  {
   "cell_type": "markdown",
   "metadata": {
    "tags": []
   },
   "source": [
    "First, check that the correct kernel is chosen.\n",
    "\n",
    "<img src=\"img/kernel_set_up.png\" width=\"300\"/>\n",
    "\n",
    "You can click on that to see and check the details of the image, kernel, and instance type.\n",
    "\n",
    "<img src=\"img/w3_kernel_and_instance_type.png\" width=\"600\"/>"
   ]
  },
  {
   "cell_type": "code",
   "execution_count": 2,
   "metadata": {
    "tags": []
   },
   "outputs": [
    {
     "name": "stdout",
     "output_type": "stream",
     "text": [
      "Python 3.7.10\n"
     ]
    }
   ],
   "source": [
    "!python --version"
   ]
  },
  {
   "cell_type": "code",
   "execution_count": 3,
   "metadata": {
    "tags": []
   },
   "outputs": [
    {
     "name": "stdout",
     "output_type": "stream",
     "text": [
      "svmem(total=33229983744, available=31609384960, percent=4.9, used=1204752384, free=25713000448, active=829849600, inactive=5591613440, buffers=2768896, cached=6309462016, shared=843776, slab=717750272)\n"
     ]
    }
   ],
   "source": [
    "import psutil\n",
    "\n",
    "notebook_memory = psutil.virtual_memory()\n",
    "print(notebook_memory)\n",
    "\n",
    "if notebook_memory.total < 32 * 1000 * 1000 * 1000:\n",
    "    print('*******************************************')    \n",
    "    print('YOU ARE NOT USING THE CORRECT INSTANCE TYPE')\n",
    "    print('PLEASE CHANGE INSTANCE TYPE TO  m5.2xlarge ')\n",
    "    print('*******************************************')\n",
    "else:\n",
    "    correct_instance_type=True"
   ]
  },
  {
   "cell_type": "code",
   "execution_count": 4,
   "metadata": {
    "tags": []
   },
   "outputs": [],
   "source": [
    "#导入boto3库,用于访问AWS服务\n",
    "import boto3\n",
    "#导入sagemaker库,用于构建和训练SageMaker模型\n",
    "import sagemaker\n",
    "\n",
    "#创建一个SageMaker Session\n",
    "sess = sagemaker.Session()\n",
    "#获取默认的S3存储桶\n",
    "bucket = sess.default_bucket()\n",
    "#获取当前区域名称\n",
    "region = boto3.Session().region_name"
   ]
  },
  {
   "cell_type": "markdown",
   "metadata": {},
   "source": [
    "# SageMaker\n",
    "## _==> Please ignore all WARNINGs and ERRORs from the `pip install`'s below. <==_"
   ]
  },
  {
   "cell_type": "code",
   "execution_count": 5,
   "metadata": {
    "tags": []
   },
   "outputs": [
    {
     "name": "stdout",
     "output_type": "stream",
     "text": [
      "\u001b[33mDEPRECATION: pyodbc 4.0.0-unsupported has a non-standard version number. pip 23.3 will enforce this behaviour change. A possible replacement is to upgrade to a newer version of pyodbc or contact the author to suggest that they release a version with a conforming version number. Discussion can be found at https://github.com/pypa/pip/issues/12063\u001b[0m\u001b[33m\n",
      "\u001b[0m\u001b[31mERROR: pip's dependency resolver does not currently take into account all the packages that are installed. This behaviour is the source of the following dependency conflicts.\n",
      "pytest-astropy 0.8.0 requires pytest-cov>=2.0, which is not installed.\n",
      "pytest-astropy 0.8.0 requires pytest-filter-subpackage>=0.1, which is not installed.\n",
      "spyder 4.0.1 requires pyqt5<5.13; python_version >= \"3\", which is not installed.\n",
      "spyder 4.0.1 requires pyqtwebengine<5.13; python_version >= \"3\", which is not installed.\n",
      "notebook 6.5.5 requires pyzmq<25,>=17, but you have pyzmq 25.1.0 which is incompatible.\n",
      "python-language-server 0.31.7 requires jedi<0.16,>=0.14.1, but you have jedi 0.18.2 which is incompatible.\n",
      "python-language-server 0.31.7 requires ujson<=1.35; platform_system != \"Windows\", but you have ujson 5.7.0 which is incompatible.\n",
      "sparkmagic 0.20.4 requires nest-asyncio==1.5.5, but you have nest-asyncio 1.5.7 which is incompatible.\n",
      "spyder 4.0.1 requires jedi==0.14.1, but you have jedi 0.18.2 which is incompatible.\u001b[0m\u001b[31m\n",
      "\u001b[0m\u001b[33mWARNING: Running pip as the 'root' user can result in broken permissions and conflicting behaviour with the system package manager. It is recommended to use a virtual environment instead: https://pip.pypa.io/warnings/venv\u001b[0m\u001b[33m\n",
      "\u001b[0mNote: you may need to restart the kernel to use updated packages.\n"
     ]
    }
   ],
   "source": [
    "%pip install --disable-pip-version-check -q sagemaker==2.136.0"
   ]
  },
  {
   "cell_type": "code",
   "execution_count": 6,
   "metadata": {
    "tags": []
   },
   "outputs": [
    {
     "name": "stdout",
     "output_type": "stream",
     "text": [
      "\u001b[33mDEPRECATION: pyodbc 4.0.0-unsupported has a non-standard version number. pip 23.3 will enforce this behaviour change. A possible replacement is to upgrade to a newer version of pyodbc or contact the author to suggest that they release a version with a conforming version number. Discussion can be found at https://github.com/pypa/pip/issues/12063\u001b[0m\u001b[33m\n",
      "\u001b[0m\u001b[33mWARNING: Running pip as the 'root' user can result in broken permissions and conflicting behaviour with the system package manager. It is recommended to use a virtual environment instead: https://pip.pypa.io/warnings/venv\u001b[0m\u001b[33m\n",
      "\u001b[0mNote: you may need to restart the kernel to use updated packages.\n"
     ]
    }
   ],
   "source": [
    "%pip install --disable-pip-version-check -q sagemaker-experiments==0.1.28"
   ]
  },
  {
   "cell_type": "markdown",
   "metadata": {},
   "source": [
    "## _==> Please ignore all WARNINGs and ERRORs from the `pip install`'s above. <==_"
   ]
  },
  {
   "cell_type": "markdown",
   "metadata": {},
   "source": [
    "# PyTorch\n",
    "## _==> Please ignore all WARNINGs and ERRORs from the `pip install`'s below. <==_"
   ]
  },
  {
   "cell_type": "code",
   "execution_count": 7,
   "metadata": {
    "tags": []
   },
   "outputs": [
    {
     "name": "stdout",
     "output_type": "stream",
     "text": [
      "\u001b[33mWARNING: Skipping torch as it is not installed.\u001b[0m\u001b[33m\n",
      "\u001b[0m\u001b[33mWARNING: Skipping torchdata as it is not installed.\u001b[0m\u001b[33m\n",
      "\u001b[0m\u001b[33mWARNING: Running pip as the 'root' user can result in broken permissions and conflicting behaviour with the system package manager. It is recommended to use a virtual environment instead: https://pip.pypa.io/warnings/venv\u001b[0m\u001b[33m\n",
      "\u001b[0mNote: you may need to restart the kernel to use updated packages.\n"
     ]
    }
   ],
   "source": [
    "%pip uninstall -y --disable-pip-version-check \\\n",
    "    torch==1.13.1 \\\n",
    "    torchdata==0.5.1 --quiet"
   ]
  },
  {
   "cell_type": "code",
   "execution_count": 8,
   "metadata": {
    "tags": []
   },
   "outputs": [
    {
     "name": "stdout",
     "output_type": "stream",
     "text": [
      "\u001b[33mDEPRECATION: pyodbc 4.0.0-unsupported has a non-standard version number. pip 23.3 will enforce this behaviour change. A possible replacement is to upgrade to a newer version of pyodbc or contact the author to suggest that they release a version with a conforming version number. Discussion can be found at https://github.com/pypa/pip/issues/12063\u001b[0m\u001b[33m\n",
      "\u001b[0m\u001b[33mWARNING: Running pip as the 'root' user can result in broken permissions and conflicting behaviour with the system package manager. It is recommended to use a virtual environment instead: https://pip.pypa.io/warnings/venv\u001b[0m\u001b[33m\n",
      "\u001b[0mNote: you may need to restart the kernel to use updated packages.\n"
     ]
    }
   ],
   "source": [
    "%pip install --disable-pip-version-check \\\n",
    "    torch==1.13.1 \\\n",
    "    torchdata==0.5.1 --quiet"
   ]
  },
  {
   "cell_type": "markdown",
   "metadata": {
    "jp-MarkdownHeadingCollapsed": true,
    "tags": []
   },
   "source": [
    "## _==> Please ignore all WARNINGs and ERRORs from the `pip install`'s above. <==_"
   ]
  },
  {
   "cell_type": "markdown",
   "metadata": {
    "tags": []
   },
   "source": [
    "# Hugging Face Transformers and other language libraries\n",
    "## _==> Please ignore all WARNINGs and ERRORs from the `pip install`'s below. <==_"
   ]
  },
  {
   "cell_type": "code",
   "execution_count": 9,
   "metadata": {
    "tags": []
   },
   "outputs": [
    {
     "name": "stdout",
     "output_type": "stream",
     "text": [
      "\u001b[33m  WARNING: Did not find branch or tag '25fa1bd', assuming revision or ref.\u001b[0m\u001b[33m\n",
      "\u001b[0m\u001b[33mDEPRECATION: pyodbc 4.0.0-unsupported has a non-standard version number. pip 23.3 will enforce this behaviour change. A possible replacement is to upgrade to a newer version of pyodbc or contact the author to suggest that they release a version with a conforming version number. Discussion can be found at https://github.com/pypa/pip/issues/12063\u001b[0m\u001b[33m\n",
      "\u001b[0m\u001b[31mERROR: pip's dependency resolver does not currently take into account all the packages that are installed. This behaviour is the source of the following dependency conflicts.\n",
      "pytest-astropy 0.8.0 requires pytest-cov>=2.0, which is not installed.\n",
      "pytest-astropy 0.8.0 requires pytest-filter-subpackage>=0.1, which is not installed.\n",
      "spyder 4.0.1 requires pyqt5<5.13; python_version >= \"3\", which is not installed.\n",
      "spyder 4.0.1 requires pyqtwebengine<5.13; python_version >= \"3\", which is not installed.\n",
      "flask 2.2.5 requires click>=8.0, but you have click 7.1.2 which is incompatible.\n",
      "notebook 6.5.5 requires pyzmq<25,>=17, but you have pyzmq 25.1.0 which is incompatible.\n",
      "pathos 0.3.1 requires dill>=0.3.7, but you have dill 0.3.6 which is incompatible.\n",
      "pathos 0.3.1 requires multiprocess>=0.70.15, but you have multiprocess 0.70.14 which is incompatible.\n",
      "sparkmagic 0.20.4 requires nest-asyncio==1.5.5, but you have nest-asyncio 1.5.7 which is incompatible.\n",
      "spyder 4.0.1 requires jedi==0.14.1, but you have jedi 0.18.2 which is incompatible.\u001b[0m\u001b[31m\n",
      "\u001b[0m\u001b[33mWARNING: Running pip as the 'root' user can result in broken permissions and conflicting behaviour with the system package manager. It is recommended to use a virtual environment instead: https://pip.pypa.io/warnings/venv\u001b[0m\u001b[33m\n",
      "\u001b[0mNote: you may need to restart the kernel to use updated packages.\n"
     ]
    }
   ],
   "source": [
    "%pip install --disable-pip-version-check \\\n",
    "    transformers==4.27.2 \\\n",
    "    datasets==2.11.0 \\\n",
    "    accelerate==0.17.0 \\\n",
    "    bitsandbytes==0.37.0 \\\n",
    "    promptsource==0.2.3 \\\n",
    "    evaluate==0.4.0 \\\n",
    "    py7zr==0.20.4 \\\n",
    "    sentencepiece==0.1.99 \\\n",
    "    rouge_score==0.1.2 \\\n",
    "    loralib==0.1.1 \\\n",
    "    peft==0.3.0 \\\n",
    "    git+https://github.com/lvwerra/trl.git@25fa1bd --quiet"
   ]
  },
  {
   "cell_type": "markdown",
   "metadata": {},
   "source": [
    "## _==> Please ignore all WARNINGs and ERRORs from the `pip install`'s above. <==_"
   ]
  },
  {
   "cell_type": "markdown",
   "metadata": {
    "tags": []
   },
   "source": [
    "# Ray\n",
    "## _==> Please ignore all WARNINGs and ERRORs from the `pip install`'s below. <==_"
   ]
  },
  {
   "cell_type": "code",
   "execution_count": 11,
   "metadata": {
    "tags": []
   },
   "outputs": [
    {
     "name": "stdout",
     "output_type": "stream",
     "text": [
      "\u001b[33mDEPRECATION: pyodbc 4.0.0-unsupported has a non-standard version number. pip 23.3 will enforce this behaviour change. A possible replacement is to upgrade to a newer version of pyodbc or contact the author to suggest that they release a version with a conforming version number. Discussion can be found at https://github.com/pypa/pip/issues/12063\u001b[0m\u001b[33m\n",
      "\u001b[0m\u001b[33mWARNING: Running pip as the 'root' user can result in broken permissions and conflicting behaviour with the system package manager. It is recommended to use a virtual environment instead: https://pip.pypa.io/warnings/venv\u001b[0m\u001b[33m\n",
      "\u001b[0mNote: you may need to restart the kernel to use updated packages.\n"
     ]
    }
   ],
   "source": [
    "%pip install --disable-pip-version-check -q ray==2.5.0"
   ]
  },
  {
   "cell_type": "markdown",
   "metadata": {},
   "source": [
    "## _==> Please ignore all WARNINGs and ERRORs from the `pip install`'s above. <==_"
   ]
  },
  {
   "cell_type": "markdown",
   "metadata": {},
   "source": [
    "# PyAthena\n",
    "## _==> Please ignore all WARNINGs and ERRORs from the `pip install`'s below. <==_"
   ]
  },
  {
   "cell_type": "code",
   "execution_count": 12,
   "metadata": {
    "tags": []
   },
   "outputs": [
    {
     "name": "stdout",
     "output_type": "stream",
     "text": [
      "\u001b[33mDEPRECATION: pyodbc 4.0.0-unsupported has a non-standard version number. pip 23.3 will enforce this behaviour change. A possible replacement is to upgrade to a newer version of pyodbc or contact the author to suggest that they release a version with a conforming version number. Discussion can be found at https://github.com/pypa/pip/issues/12063\u001b[0m\u001b[33m\n",
      "\u001b[0m\u001b[33mWARNING: Running pip as the 'root' user can result in broken permissions and conflicting behaviour with the system package manager. It is recommended to use a virtual environment instead: https://pip.pypa.io/warnings/venv\u001b[0m\u001b[33m\n",
      "\u001b[0mNote: you may need to restart the kernel to use updated packages.\n"
     ]
    }
   ],
   "source": [
    "%pip install --disable-pip-version-check -q PyAthena==2.1.1"
   ]
  },
  {
   "cell_type": "markdown",
   "metadata": {},
   "source": [
    "## _==> Please ignore all WARNINGs and ERRORs from the `pip install`'s above. <==_"
   ]
  },
  {
   "cell_type": "markdown",
   "metadata": {},
   "source": [
    "# Redshift\n",
    "## _==> Please ignore all WARNINGs and ERRORs from the `pip install`'s below. <==_"
   ]
  },
  {
   "cell_type": "code",
   "execution_count": 13,
   "metadata": {
    "tags": []
   },
   "outputs": [
    {
     "name": "stdout",
     "output_type": "stream",
     "text": [
      "\u001b[33mDEPRECATION: pyodbc 4.0.0-unsupported has a non-standard version number. pip 23.3 will enforce this behaviour change. A possible replacement is to upgrade to a newer version of pyodbc or contact the author to suggest that they release a version with a conforming version number. Discussion can be found at https://github.com/pypa/pip/issues/12063\u001b[0m\u001b[33m\n",
      "\u001b[0m\u001b[33mWARNING: Running pip as the 'root' user can result in broken permissions and conflicting behaviour with the system package manager. It is recommended to use a virtual environment instead: https://pip.pypa.io/warnings/venv\u001b[0m\u001b[33m\n",
      "\u001b[0m\u001b[33mDEPRECATION: pyodbc 4.0.0-unsupported has a non-standard version number. pip 23.3 will enforce this behaviour change. A possible replacement is to upgrade to a newer version of pyodbc or contact the author to suggest that they release a version with a conforming version number. Discussion can be found at https://github.com/pypa/pip/issues/12063\u001b[0m\u001b[33m\n",
      "\u001b[0m\u001b[33mWARNING: Running pip as the 'root' user can result in broken permissions and conflicting behaviour with the system package manager. It is recommended to use a virtual environment instead: https://pip.pypa.io/warnings/venv\u001b[0m\u001b[33m\n",
      "\u001b[0m"
     ]
    }
   ],
   "source": [
    "!pip install --disable-pip-version-check -q SQLAlchemy==1.3.23\n",
    "!pip install --disable-pip-version-check -q psycopg2-binary==2.9.1"
   ]
  },
  {
   "cell_type": "markdown",
   "metadata": {},
   "source": [
    "## _==> Please ignore all WARNINGs and ERRORs from the `pip install`'s above. <==_"
   ]
  },
  {
   "cell_type": "markdown",
   "metadata": {},
   "source": [
    "# Zip\n",
    "## _==> Please ignore all WARNINGs and ERRORs from the `conda install`'s below. <==_"
   ]
  },
  {
   "cell_type": "code",
   "execution_count": 14,
   "metadata": {
    "tags": []
   },
   "outputs": [
    {
     "name": "stdout",
     "output_type": "stream",
     "text": [
      "Collecting package metadata (current_repodata.json): ...working... done\n",
      "Solving environment: ...working... \n",
      "The environment is inconsistent, please check the package plan carefully\n",
      "The following packages are causing the inconsistency:\n",
      "\n",
      "  - defaults/linux-64::anaconda-client==1.7.2=py37_0\n",
      "  - defaults/noarch::anaconda-project==0.8.4=py_0\n",
      "  - defaults/linux-64::bokeh==1.4.0=py37_0\n",
      "  - defaults/noarch::dask==2.11.0=py_0\n",
      "  - defaults/linux-64::distributed==2.11.0=py37_0\n",
      "  - defaults/linux-64::spyder==4.0.1=py37_0\n",
      "  - defaults/linux-64::watchdog==0.10.2=py37_0\n",
      "failed with initial frozen solve. Retrying with flexible solve.\n",
      "Solving environment: ...working... failed with repodata from current_repodata.json, will retry with next repodata source.\n",
      "Collecting package metadata (repodata.json): ...working... done\n",
      "Solving environment: ...working... \n",
      "The environment is inconsistent, please check the package plan carefully\n",
      "The following packages are causing the inconsistency:\n",
      "\n",
      "  - defaults/linux-64::anaconda-client==1.7.2=py37_0\n",
      "  - defaults/noarch::anaconda-project==0.8.4=py_0\n",
      "  - defaults/linux-64::bokeh==1.4.0=py37_0\n",
      "  - defaults/noarch::dask==2.11.0=py_0\n",
      "  - defaults/linux-64::distributed==2.11.0=py37_0\n",
      "  - defaults/linux-64::spyder==4.0.1=py37_0\n",
      "  - defaults/linux-64::watchdog==0.10.2=py37_0\n",
      "done\n",
      "\n",
      "## Package Plan ##\n",
      "\n",
      "  environment location: /opt/conda\n",
      "\n",
      "  added / updated specs:\n",
      "    - zip\n",
      "\n",
      "\n",
      "The following packages will be downloaded:\n",
      "\n",
      "    package                    |            build\n",
      "    ---------------------------|-----------------\n",
      "    ca-certificates-2023.05.30 |       h06a4308_0         120 KB\n",
      "    certifi-2022.12.7          |   py37h06a4308_0         150 KB\n",
      "    conda-22.9.0               |   py37h06a4308_0         878 KB\n",
      "    openssl-1.1.1v             |       h7f8727e_0         3.7 MB\n",
      "    pyyaml-5.3.1               |   py37h7b6447c_0         181 KB\n",
      "    zip-3.0                    |       h7f8727e_1         111 KB\n",
      "    ------------------------------------------------------------\n",
      "                                           Total:         5.1 MB\n",
      "\n",
      "The following NEW packages will be INSTALLED:\n",
      "\n",
      "  pyyaml             pkgs/main/linux-64::pyyaml-5.3.1-py37h7b6447c_0 None\n",
      "  zip                pkgs/main/linux-64::zip-3.0-h7f8727e_1 None\n",
      "\n",
      "The following packages will be UPDATED:\n",
      "\n",
      "  openssl                                 1.1.1u-h7f8727e_0 --> 1.1.1v-h7f8727e_0 None\n",
      "\n",
      "The following packages will be SUPERSEDED by a higher-priority channel:\n",
      "\n",
      "  ca-certificates    conda-forge::ca-certificates-2023.7.2~ --> pkgs/main::ca-certificates-2023.05.30-h06a4308_0 None\n",
      "  certifi            conda-forge/noarch::certifi-2023.7.22~ --> pkgs/main/linux-64::certifi-2022.12.7-py37h06a4308_0 None\n",
      "  conda              conda-forge::conda-22.9.0-py37h89c186~ --> pkgs/main::conda-22.9.0-py37h06a4308_0 None\n",
      "\n",
      "\n",
      "Preparing transaction: ...working... done\n",
      "Verifying transaction: ...working... done\n",
      "Executing transaction: ...working... done\n",
      "Retrieving notices: ...working... done\n",
      "\n",
      "Note: you may need to restart the kernel to use updated packages.\n"
     ]
    }
   ],
   "source": [
    "%conda install -q -y zip"
   ]
  },
  {
   "cell_type": "markdown",
   "metadata": {},
   "source": [
    "# Matplotlib\n",
    "## _==> Please ignore all WARNINGs and ERRORs from the `pip install`'s below. <==_"
   ]
  },
  {
   "cell_type": "code",
   "execution_count": 15,
   "metadata": {
    "tags": []
   },
   "outputs": [
    {
     "name": "stdout",
     "output_type": "stream",
     "text": [
      "\u001b[33mDEPRECATION: pyodbc 4.0.0-unsupported has a non-standard version number. pip 23.3 will enforce this behaviour change. A possible replacement is to upgrade to a newer version of pyodbc or contact the author to suggest that they release a version with a conforming version number. Discussion can be found at https://github.com/pypa/pip/issues/12063\u001b[0m\u001b[33m\n",
      "\u001b[0m\u001b[33mWARNING: Running pip as the 'root' user can result in broken permissions and conflicting behaviour with the system package manager. It is recommended to use a virtual environment instead: https://pip.pypa.io/warnings/venv\u001b[0m\u001b[33m\n",
      "\u001b[0mNote: you may need to restart the kernel to use updated packages.\n"
     ]
    }
   ],
   "source": [
    "%pip install --disable-pip-version-check -q matplotlib==3.1.3"
   ]
  },
  {
   "cell_type": "markdown",
   "metadata": {},
   "source": [
    "## _==> Please ignore all WARNINGs and ERRORs from the `pip install`'s above. <==_"
   ]
  },
  {
   "cell_type": "markdown",
   "metadata": {},
   "source": [
    "# Seaborn\n",
    "## _==> Please ignore all WARNINGs and ERRORs from the `pip install`'s below. <==_"
   ]
  },
  {
   "cell_type": "code",
   "execution_count": 16,
   "metadata": {
    "tags": []
   },
   "outputs": [
    {
     "name": "stdout",
     "output_type": "stream",
     "text": [
      "\u001b[33mDEPRECATION: pyodbc 4.0.0-unsupported has a non-standard version number. pip 23.3 will enforce this behaviour change. A possible replacement is to upgrade to a newer version of pyodbc or contact the author to suggest that they release a version with a conforming version number. Discussion can be found at https://github.com/pypa/pip/issues/12063\u001b[0m\u001b[33m\n",
      "\u001b[0m\u001b[33mWARNING: Running pip as the 'root' user can result in broken permissions and conflicting behaviour with the system package manager. It is recommended to use a virtual environment instead: https://pip.pypa.io/warnings/venv\u001b[0m\u001b[33m\n",
      "\u001b[0mNote: you may need to restart the kernel to use updated packages.\n"
     ]
    }
   ],
   "source": [
    "%pip install --disable-pip-version-check -q seaborn==0.10.0"
   ]
  },
  {
   "cell_type": "markdown",
   "metadata": {},
   "source": [
    "## _==> Please ignore all WARNINGs and ERRORs from the `pip install`'s above. <==_"
   ]
  },
  {
   "cell_type": "markdown",
   "metadata": {},
   "source": [
    "# Scikit-Learn\n",
    "## _==> Please ignore all WARNINGs and ERRORs from the `pip install`'s below. <==_"
   ]
  },
  {
   "cell_type": "code",
   "execution_count": 17,
   "metadata": {
    "tags": []
   },
   "outputs": [
    {
     "name": "stdout",
     "output_type": "stream",
     "text": [
      "\u001b[33mDEPRECATION: pyodbc 4.0.0-unsupported has a non-standard version number. pip 23.3 will enforce this behaviour change. A possible replacement is to upgrade to a newer version of pyodbc or contact the author to suggest that they release a version with a conforming version number. Discussion can be found at https://github.com/pypa/pip/issues/12063\u001b[0m\u001b[33m\n",
      "\u001b[0m\u001b[31mERROR: pip's dependency resolver does not currently take into account all the packages that are installed. This behaviour is the source of the following dependency conflicts.\n",
      "sagemaker-datawrangler 0.4.3 requires sagemaker-data-insights==0.4.0, but you have sagemaker-data-insights 0.3.3 which is incompatible.\u001b[0m\u001b[31m\n",
      "\u001b[0m\u001b[33mWARNING: Running pip as the 'root' user can result in broken permissions and conflicting behaviour with the system package manager. It is recommended to use a virtual environment instead: https://pip.pypa.io/warnings/venv\u001b[0m\u001b[33m\n",
      "\u001b[0mNote: you may need to restart the kernel to use updated packages.\n"
     ]
    }
   ],
   "source": [
    "%pip install --disable-pip-version-check -q scikit-learn==0.23.1"
   ]
  },
  {
   "cell_type": "markdown",
   "metadata": {},
   "source": [
    "## _==> Please ignore all WARNINGs and ERRORs from the `pip install`'s above. <==_"
   ]
  },
  {
   "cell_type": "code",
   "execution_count": 18,
   "metadata": {
    "tags": []
   },
   "outputs": [
    {
     "name": "stdout",
     "output_type": "stream",
     "text": [
      "arn:aws:iam::941797585610:role/service-role/AmazonSageMaker-ExecutionRole-20230420T182274\n",
      "Stored 'role' (str)\n"
     ]
    }
   ],
   "source": [
    "#导入sagemaker库\n",
    "import sagemaker\n",
    "\n",
    "try:\n",
    "    # 尝试获取SageMaker执行角色\n",
    "    role = sagemaker.get_execution_role()\n",
    "    print(role)\n",
    "except:\n",
    "    # role='<SAGEMAKER_EXECUTION_ROLE_NAME>' # 比如 arn:aws:iam::<账户ID>:role/service-role/AmazonSageMaker-ExecutionRole-XXXXXXXXXXXX\n",
    "    print('如果有异常,请通过取消注释上面的\"role=...\"行直接设置角色')\n",
    "pass\n",
    "# 将role变量存储到内核环境变量中\n",
    "%store role"
   ]
  },
  {
   "cell_type": "markdown",
   "metadata": {},
   "source": [
    "# Summarize Python Dependencies\n",
    "## _==> Please ignore all WARNINGs and ERRORs from the `pip install`'s below. <==_"
   ]
  },
  {
   "cell_type": "code",
   "execution_count": 19,
   "metadata": {
    "tags": []
   },
   "outputs": [
    {
     "name": "stdout",
     "output_type": "stream",
     "text": [
      "Python 3.7.10\n"
     ]
    }
   ],
   "source": [
    "!python --version"
   ]
  },
  {
   "cell_type": "code",
   "execution_count": 20,
   "metadata": {
    "scrolled": true,
    "tags": []
   },
   "outputs": [
    {
     "name": "stdout",
     "output_type": "stream",
     "text": [
      "Package                              Version\n",
      "------------------------------------ -----------------\n",
      "absl-py                              1.4.0\n",
      "accelerate                           0.17.0\n",
      "aiobotocore                          2.4.2\n",
      "aiohttp                              3.8.5\n",
      "aioitertools                         0.11.0\n",
      "aiosignal                            1.3.1\n",
      "alabaster                            0.7.12\n",
      "altair                               5.0.1\n",
      "anaconda-client                      1.7.2\n",
      "anaconda-project                     0.8.3\n",
      "ansi2html                            1.8.0\n",
      "anyio                                3.7.1\n",
      "argh                                 0.26.2\n",
      "argon2-cffi                          21.3.0\n",
      "argon2-cffi-bindings                 21.2.0\n",
      "asn1crypto                           1.3.0\n",
      "astor                                0.8.1\n",
      "astroid                              2.15.6\n",
      "astropy                              4.3.1\n",
      "async-timeout                        4.0.2\n",
      "asynctest                            0.13.0\n",
      "atomicwrites                         1.3.0\n",
      "attrs                                22.2.0\n",
      "autopep8                             1.4.4\n",
      "autovizwidget                        0.20.5\n",
      "awscli                               1.29.14\n",
      "Babel                                2.12.1\n",
      "backcall                             0.1.0\n",
      "backports.shutil-get-terminal-size   1.0.0\n",
      "backports.zoneinfo                   0.2.1\n",
      "base58                               2.1.1\n",
      "beautifulsoup4                       4.8.2\n",
      "bitarray                             1.2.1\n",
      "bitsandbytes                         0.37.0\n",
      "bkcharts                             0.2\n",
      "black                                21.12b0\n",
      "bleach                               6.0.0\n",
      "blinker                              1.6.2\n",
      "bokeh                                1.4.0\n",
      "boto                                 2.49.0\n",
      "boto3                                1.28.14\n",
      "botocore                             1.31.14\n",
      "Bottleneck                           1.3.2\n",
      "Brotli                               1.0.9\n",
      "brotlipy                             0.7.0\n",
      "cachetools                           5.3.1\n",
      "certifi                              2022.12.7\n",
      "cffi                                 1.15.0\n",
      "chardet                              3.0.4\n",
      "charset-normalizer                   2.0.4\n",
      "click                                7.1.2\n",
      "cloudpickle                          2.2.1\n",
      "clyent                               1.2.2\n",
      "colorama                             0.4.3\n",
      "conda                                22.9.0\n",
      "conda-package-handling               1.8.1\n",
      "contextlib2                          0.6.0.post1\n",
      "cryptography                         41.0.2\n",
      "cycler                               0.10.0\n",
      "Cython                               0.29.15\n",
      "cytoolz                              0.10.1\n",
      "dash                                 2.11.1\n",
      "dash-core-components                 2.0.0\n",
      "dash-html-components                 2.0.0\n",
      "dash-table                           5.0.0\n",
      "dask                                 2022.2.0\n",
      "datasets                             2.11.0\n",
      "decorator                            4.4.1\n",
      "defusedxml                           0.6.0\n",
      "diff-match-patch                     20181111\n",
      "dill                                 0.3.6\n",
      "distributed                          2022.2.0\n",
      "docutils                             0.16\n",
      "dparse                               0.6.3\n",
      "entrypoints                          0.3\n",
      "et-xmlfile                           1.0.1\n",
      "evaluate                             0.4.0\n",
      "exceptiongroup                       1.1.2\n",
      "fastcache                            1.1.0\n",
      "fastjsonschema                       2.18.0\n",
      "filelock                             3.0.12\n",
      "flake8                               3.7.9\n",
      "Flask                                2.2.5\n",
      "frozenlist                           1.3.3\n",
      "fsspec                               2023.1.0\n",
      "future                               0.18.2\n",
      "gevent                               1.4.0\n",
      "gitdb                                4.0.10\n",
      "GitPython                            3.1.34\n",
      "glob2                                0.7\n",
      "gmpy2                                2.0.8\n",
      "google-pasta                         0.2.0\n",
      "greenlet                             0.4.15\n",
      "grpcio                               1.51.3\n",
      "h5py                                 2.10.0\n",
      "hdijupyterutils                      0.20.5\n",
      "HeapDict                             1.0.1\n",
      "html5lib                             1.0.1\n",
      "huggingface-hub                      0.16.4\n",
      "hypothesis                           5.5.4\n",
      "idna                                 2.8\n",
      "imageio                              2.6.1\n",
      "imagesize                            1.2.0\n",
      "importlib-metadata                   4.13.0\n",
      "inflate64                            0.3.1\n",
      "intervaltree                         3.0.2\n",
      "ipykernel                            5.1.4\n",
      "ipython                              7.34.0\n",
      "ipython_genutils                     0.2.0\n",
      "ipywidgets                           7.5.1\n",
      "isort                                5.8.0\n",
      "itsdangerous                         2.1.2\n",
      "jdcal                                1.4.1\n",
      "jedi                                 0.18.2\n",
      "jeepney                              0.4.2\n",
      "Jinja2                               3.1.2\n",
      "jmespath                             1.0.1\n",
      "joblib                               1.3.1\n",
      "json5                                0.9.1\n",
      "jsonschema                           3.2.0\n",
      "jupyter                              1.0.0\n",
      "jupyter_client                       7.4.9\n",
      "jupyter-console                      6.1.0\n",
      "jupyter_core                         4.12.0\n",
      "jupyter-dash                         0.4.2\n",
      "jupyter-server                       1.24.0\n",
      "jupyterlab                           1.2.21\n",
      "jupyterlab-pygments                  0.2.2\n",
      "jupyterlab-server                    1.0.6\n",
      "keyring                              21.1.0\n",
      "kiwisolver                           1.1.0\n",
      "lazy-object-proxy                    1.4.3\n",
      "libarchive-c                         2.8\n",
      "lief                                 0.9.0\n",
      "llvmlite                             0.31.0\n",
      "locket                               0.2.0\n",
      "loralib                              0.1.1\n",
      "lxml                                 4.9.3\n",
      "MarkupSafe                           2.1.3\n",
      "matplotlib                           3.1.3\n",
      "matplotlib-inline                    0.1.6\n",
      "mccabe                               0.6.1\n",
      "mistune                              0.8.4\n",
      "mkl-fft                              1.0.15\n",
      "mkl-random                           1.1.0\n",
      "mkl-service                          2.3.0\n",
      "mock                                 4.0.1\n",
      "more-itertools                       8.2.0\n",
      "mpmath                               1.1.0\n",
      "msgpack                              1.0.5\n",
      "multidict                            6.0.4\n",
      "multipledispatch                     0.6.0\n",
      "multiprocess                         0.70.14\n",
      "multivolumefile                      0.2.3\n",
      "mypy-extensions                      1.0.0\n",
      "nbclassic                            1.0.0\n",
      "nbclient                             0.7.4\n",
      "nbconvert                            6.5.4\n",
      "nbformat                             5.8.0\n",
      "nest-asyncio                         1.5.7\n",
      "networkx                             2.4\n",
      "nltk                                 3.8.1\n",
      "nose                                 1.3.7\n",
      "notebook                             6.5.5\n",
      "notebook_shim                        0.2.3\n",
      "numba                                0.48.0\n",
      "numexpr                              2.7.1\n",
      "numpy                                1.21.6\n",
      "numpydoc                             0.9.2\n",
      "nvidia-cublas-cu11                   11.10.3.66\n",
      "nvidia-cuda-nvrtc-cu11               11.7.99\n",
      "nvidia-cuda-runtime-cu11             11.7.99\n",
      "nvidia-cudnn-cu11                    8.5.0.96\n",
      "olefile                              0.46\n",
      "openpyxl                             3.0.3\n",
      "packaging                            23.1\n",
      "pandas                               1.3.5\n",
      "pandocfilters                        1.4.2\n",
      "parso                                0.8.3\n",
      "partd                                1.1.0\n",
      "path                                 13.1.0\n",
      "pathlib2                             2.3.5\n",
      "pathos                               0.3.1\n",
      "pathspec                             0.11.2\n",
      "pathtools                            0.1.2\n",
      "patsy                                0.5.1\n",
      "peft                                 0.3.0\n",
      "pep8                                 1.7.1\n",
      "pexpect                              4.8.0\n",
      "pickleshare                          0.7.5\n",
      "Pillow                               9.5.0\n",
      "pip                                  23.2.1\n",
      "pkginfo                              1.5.0.1\n",
      "platformdirs                         3.9.1\n",
      "plotly                               5.8.2\n",
      "pluggy                               0.13.1\n",
      "ply                                  3.11\n",
      "portalocker                          2.7.0\n",
      "pox                                  0.3.3\n",
      "ppft                                 1.7.6.7\n",
      "prometheus-client                    0.7.1\n",
      "prompt-toolkit                       3.0.3\n",
      "promptsource                         0.2.3\n",
      "protobuf                             3.20.3\n",
      "protobuf3-to-dict                    0.1.5\n",
      "psutil                               5.6.7\n",
      "psycopg2-binary                      2.9.1\n",
      "ptyprocess                           0.6.0\n",
      "pure-sasl                            0.6.2\n",
      "py                                   1.11.0\n",
      "py7zr                                0.20.4\n",
      "pyarrow                              12.0.1\n",
      "pyasn1                               0.5.0\n",
      "pyathena                             2.1.1\n",
      "pybcj                                1.0.1\n",
      "pycodestyle                          2.5.0\n",
      "pycosat                              0.6.3\n",
      "pycparser                            2.19\n",
      "pycryptodome                         3.18.0\n",
      "pycryptodomex                        3.18.0\n",
      "pycurl                               7.43.0.5\n",
      "pydeck                               0.8.1b0\n",
      "pydocstyle                           4.0.1\n",
      "pyerfa                               2.0.0.3\n",
      "pyflakes                             2.1.1\n",
      "pyfunctional                         1.4.3\n",
      "Pygments                             2.15.1\n",
      "PyHive                               0.6.5\n",
      "pykerberos                           1.2.1\n",
      "pylint                               2.17.5\n",
      "pyodbc                               4.0.0-unsupported\n",
      "pyOpenSSL                            23.2.0\n",
      "pyparsing                            2.4.6\n",
      "pyppmd                               1.0.0\n",
      "pyrsistent                           0.15.7\n",
      "PySocks                              1.7.1\n",
      "pytest                               5.3.5\n",
      "pytest-arraydiff                     0.3\n",
      "pytest-astropy                       0.8.0\n",
      "pytest-astropy-header                0.1.2\n",
      "pytest-doctestplus                   0.5.0\n",
      "pytest-openfiles                     0.4.0\n",
      "pytest-remotedata                    0.3.2\n",
      "python-dateutil                      2.8.2\n",
      "python-jsonrpc-server                0.3.4\n",
      "python-language-server               0.31.7\n",
      "pytz                                 2019.3\n",
      "PyWavelets                           1.1.1\n",
      "pyxdg                                0.26\n",
      "PyYAML                               5.3.1\n",
      "pyzmq                                25.1.0\n",
      "pyzstd                               0.15.9\n",
      "QDarkStyle                           2.8\n",
      "QtAwesome                            0.6.1\n",
      "qtconsole                            4.6.0\n",
      "QtPy                                 1.9.0\n",
      "ray                                  2.5.0\n",
      "regex                                2023.6.3\n",
      "requests                             2.31.0\n",
      "requests-kerberos                    0.12.0\n",
      "responses                            0.18.0\n",
      "retrying                             1.3.4\n",
      "rope                                 0.16.0\n",
      "rouge-score                          0.1.2\n",
      "rsa                                  4.9\n",
      "Rtree                                0.9.3\n",
      "ruamel_yaml                          0.15.87\n",
      "s3fs                                 0.4.2\n",
      "s3transfer                           0.6.1\n",
      "sagemaker                            2.136.0\n",
      "sagemaker-data-insights              0.3.3\n",
      "sagemaker-datawrangler               0.4.3\n",
      "sagemaker-experiments                0.1.28\n",
      "sagemaker-scikit-learn-extension     2.5.0\n",
      "sagemaker-studio-analytics-extension 0.0.19\n",
      "sagemaker-studio-sparkmagic-lib      0.1.4\n",
      "sasl                                 0.3a1\n",
      "schema                               0.7.5\n",
      "scikit-image                         0.16.2\n",
      "scikit-learn                         0.23.1\n",
      "scipy                                1.4.1\n",
      "seaborn                              0.10.0\n",
      "SecretStorage                        3.1.2\n",
      "Send2Trash                           1.8.2\n",
      "sentencepiece                        0.1.99\n",
      "setuptools                           65.5.1\n",
      "simplegeneric                        0.8.1\n",
      "singledispatch                       3.4.0.3\n",
      "six                                  1.14.0\n",
      "smclarify                            0.5\n",
      "smdebug-rulesconfig                  1.0.1\n",
      "smmap                                5.0.0\n",
      "sniffio                              1.3.0\n",
      "snowballstemmer                      2.0.0\n",
      "sortedcollections                    1.1.2\n",
      "sortedcontainers                     2.1.0\n",
      "soupsieve                            1.9.5\n",
      "sparkmagic                           0.20.4\n",
      "Sphinx                               2.4.0\n",
      "sphinxcontrib-applehelp              1.0.1\n",
      "sphinxcontrib-devhelp                1.0.1\n",
      "sphinxcontrib-htmlhelp               1.0.2\n",
      "sphinxcontrib-jsmath                 1.0.1\n",
      "sphinxcontrib-qthelp                 1.0.2\n",
      "sphinxcontrib-serializinghtml        1.1.3\n",
      "sphinxcontrib-websupport             1.2.0\n",
      "spyder                               4.0.1\n",
      "spyder-kernels                       1.8.1\n",
      "SQLAlchemy                           1.3.23\n",
      "statsmodels                          0.11.0\n",
      "streamlit                            0.82.0\n",
      "sympy                                1.5.1\n",
      "tables                               3.6.1\n",
      "tabulate                             0.9.0\n",
      "tblib                                1.7.0\n",
      "tenacity                             8.2.2\n",
      "terminado                            0.8.3\n",
      "testpath                             0.4.4\n",
      "texttable                            1.6.7\n",
      "threadpoolctl                        3.1.0\n",
      "thrift                               0.13.0\n",
      "thrift-sasl                          0.4.3\n",
      "tinycss2                             1.2.1\n",
      "tokenizers                           0.13.3\n",
      "toml                                 0.10.2\n",
      "tomli                                1.2.3\n",
      "tomlkit                              0.12.1\n",
      "toolz                                0.10.0\n",
      "torch                                1.13.1\n",
      "torchdata                            0.5.1\n",
      "tornado                              6.2\n",
      "tqdm                                 4.66.1\n",
      "traitlets                            5.9.0\n",
      "transformers                         4.27.2\n",
      "trl                                  0.4.2.dev0\n",
      "typed-ast                            1.5.5\n",
      "typing_extensions                    4.7.1\n",
      "tzlocal                              5.0.1\n",
      "ujson                                5.7.0\n",
      "unicodecsv                           0.14.1\n",
      "urllib3                              1.26.16\n",
      "validators                           0.20.0\n",
      "watchdog                             0.10.2\n",
      "wcwidth                              0.1.8\n",
      "webencodings                         0.5.1\n",
      "websocket-client                     1.6.1\n",
      "Werkzeug                             2.2.3\n",
      "wheel                                0.41.0\n",
      "widgetsnbextension                   3.5.1\n",
      "wrapt                                1.11.2\n",
      "wurlitzer                            2.0.0\n",
      "xlrd                                 1.2.0\n",
      "XlsxWriter                           1.2.7\n",
      "xlwt                                 1.3.0\n",
      "xxhash                               3.3.0\n",
      "yapf                                 0.28.0\n",
      "yarl                                 1.9.2\n",
      "zict                                 1.0.0\n",
      "zipp                                 2.2.0\n"
     ]
    }
   ],
   "source": [
    "!pip list"
   ]
  },
  {
   "cell_type": "markdown",
   "metadata": {
    "tags": []
   },
   "source": [
    "# Setup Datasets"
   ]
  },
  {
   "cell_type": "markdown",
   "metadata": {},
   "source": [
    "# 从公共S3桶复制数据到本账户的私有S3桶中\n",
    "由于完整的数据集非常大,我们只复制3个文件到桶中以加快后续的速度"
   ]
  },
  {
   "cell_type": "code",
   "execution_count": 21,
   "metadata": {
    "tags": []
   },
   "outputs": [],
   "source": [
    "s3_public_path_tsv = \"s3://dsoaws/tsv\""
   ]
  },
  {
   "cell_type": "code",
   "execution_count": 22,
   "metadata": {
    "tags": []
   },
   "outputs": [
    {
     "name": "stdout",
     "output_type": "stream",
     "text": [
      "s3://sagemaker-us-east-1-941797585610/amazon-reviews-pds/tsv\n"
     ]
    }
   ],
   "source": [
    "s3_private_path_tsv = \"s3://{}/amazon-reviews-pds/tsv\".format(bucket)\n",
    "print(s3_private_path_tsv)"
   ]
  },
  {
   "cell_type": "code",
   "execution_count": 23,
   "metadata": {
    "tags": []
   },
   "outputs": [],
   "source": [
    "!aws s3 cp --recursive $s3_public_path_tsv/ $s3_private_path_tsv/ --exclude \"*\" --include \"amazon_reviews_us_Digital_Software_v1_00.tsv.gz\"\n",
    "!aws s3 cp --recursive $s3_public_path_tsv/ $s3_private_path_tsv/ --exclude \"*\" --include \"amazon_reviews_us_Digital_Video_Games_v1_00.tsv.gz\"\n",
    "!aws s3 cp --recursive $s3_public_path_tsv/ $s3_private_path_tsv/ --exclude \"*\" --include \"amazon_reviews_us_Gift_Card_v1_00.tsv.gz\""
   ]
  },
  {
   "cell_type": "code",
   "execution_count": 24,
   "metadata": {
    "tags": []
   },
   "outputs": [
    {
     "name": "stdout",
     "output_type": "stream",
     "text": [
      "Stored 's3_public_path_tsv' (str)\n"
     ]
    }
   ],
   "source": [
    "%store s3_public_path_tsv"
   ]
  },
  {
   "cell_type": "code",
   "execution_count": 25,
   "metadata": {
    "tags": []
   },
   "outputs": [
    {
     "name": "stdout",
     "output_type": "stream",
     "text": [
      "Stored 's3_private_path_tsv' (str)\n"
     ]
    }
   ],
   "source": [
    "%store s3_private_path_tsv"
   ]
  },
  {
   "cell_type": "markdown",
   "metadata": {
    "tags": []
   },
   "source": [
    "# 将对话摘要数据集复制到私有S3桶中"
   ]
  },
  {
   "cell_type": "code",
   "execution_count": 26,
   "metadata": {
    "tags": []
   },
   "outputs": [
    {
     "data": {
      "text/plain": [
       "'s3://sagemaker-us-east-1-941797585610/data-summarization/dialogsum-2.csv'"
      ]
     },
     "execution_count": 26,
     "metadata": {},
     "output_type": "execute_result"
    }
   ],
   "source": [
    "sess.upload_data('./data-summarization/dialogsum-1.csv', bucket=bucket, key_prefix='data-summarization')\n",
    "sess.upload_data('./data-summarization/dialogsum-2.csv', bucket=bucket, key_prefix='data-summarization')"
   ]
  },
  {
   "cell_type": "code",
   "execution_count": 27,
   "metadata": {
    "tags": []
   },
   "outputs": [
    {
     "name": "stdout",
     "output_type": "stream",
     "text": [
      "s3://sagemaker-us-east-1-941797585610/data-summarization/\n"
     ]
    }
   ],
   "source": [
    "raw_input_data_s3_uri = f's3://{bucket}/data-summarization/'\n",
    "print(raw_input_data_s3_uri)"
   ]
  },
  {
   "cell_type": "code",
   "execution_count": 28,
   "metadata": {
    "tags": []
   },
   "outputs": [
    {
     "name": "stdout",
     "output_type": "stream",
     "text": [
      "2023-09-05 03:06:01    6544107 dialogsum-1.csv\n",
      "2023-09-05 03:06:01    6572423 dialogsum-2.csv\n"
     ]
    }
   ],
   "source": [
    "!aws s3 ls $raw_input_data_s3_uri"
   ]
  },
  {
   "cell_type": "code",
   "execution_count": 29,
   "metadata": {
    "tags": []
   },
   "outputs": [
    {
     "name": "stdout",
     "output_type": "stream",
     "text": [
      "Stored 'raw_input_data_s3_uri' (str)\n"
     ]
    }
   ],
   "source": [
    "%store raw_input_data_s3_uri"
   ]
  },
  {
   "cell_type": "code",
   "execution_count": 30,
   "metadata": {
    "tags": []
   },
   "outputs": [],
   "source": [
    "setup_dependencies_passed = True"
   ]
  },
  {
   "cell_type": "markdown",
   "metadata": {},
   "source": [
    "# 将变量存储以便在后续Notebook中使用\n",
    "我们可以在后续的Notebook中使用这些变量。关于%store的更多信息,可以参考这里的文档: https://ipython.readthedocs.io/en/stable/config/extensions/storemagic.html"
   ]
  },
  {
   "cell_type": "code",
   "execution_count": 31,
   "metadata": {
    "tags": []
   },
   "outputs": [],
   "source": [
    "model_checkpoint='google/flan-t5-base'"
   ]
  },
  {
   "cell_type": "code",
   "execution_count": 32,
   "metadata": {
    "tags": []
   },
   "outputs": [
    {
     "name": "stdout",
     "output_type": "stream",
     "text": [
      "Stored 'model_checkpoint' (str)\n"
     ]
    }
   ],
   "source": [
    "%store model_checkpoint"
   ]
  },
  {
   "cell_type": "code",
   "execution_count": 33,
   "metadata": {
    "tags": []
   },
   "outputs": [
    {
     "name": "stdout",
     "output_type": "stream",
     "text": [
      "Stored 'setup_dependencies_passed' (bool)\n"
     ]
    }
   ],
   "source": [
    "%store setup_dependencies_passed"
   ]
  },
  {
   "cell_type": "code",
   "execution_count": 34,
   "metadata": {
    "tags": []
   },
   "outputs": [
    {
     "name": "stdout",
     "output_type": "stream",
     "text": [
      "Stored variables and their in-db values:\n",
      "ingest_create_athena_table_parquet_passed             -> True\n",
      "model_checkpoint                                      -> 'google/flan-t5-base'\n",
      "raw_input_data_s3_uri                                 -> 's3://sagemaker-us-east-1-941797585610/data-summar\n",
      "role                                                  -> 'arn:aws:iam::941797585610:role/service-role/Amazo\n",
      "s3_private_path_tsv                                   -> 's3://sagemaker-us-east-1-941797585610/amazon-revi\n",
      "s3_public_path_tsv                                    -> 's3://dsoaws/tsv'\n",
      "setup_dependencies_passed                             -> True\n"
     ]
    }
   ],
   "source": [
    "%store"
   ]
  },
  {
   "cell_type": "markdown",
   "metadata": {},
   "source": [
    "# Release Resources"
   ]
  },
  {
   "cell_type": "code",
   "execution_count": null,
   "metadata": {
    "tags": []
   },
   "outputs": [],
   "source": [
    "%%html\n",
    "\n",
    "<p><b>Shutting down your kernel for this notebook to release resources.</b></p>\n",
    "<button class=\"sm-command-button\" data-commandlinker-command=\"kernelmenu:shutdown\" style=\"display:none;\">Shutdown Kernel</button>\n",
    "        \n",
    "<script>\n",
    "try {\n",
    "    els = document.getElementsByClassName(\"sm-command-button\");\n",
    "    els[0].click();\n",
    "}\n",
    "catch(err) {\n",
    "    // NoOp\n",
    "}    \n",
    "</script>"
   ]
  }
 ],
 "metadata": {
  "availableInstances": [
   {
    "_defaultOrder": 0,
    "_isFastLaunch": true,
    "category": "General purpose",
    "gpuNum": 0,
    "hideHardwareSpecs": false,
    "memoryGiB": 4,
    "name": "ml.t3.medium",
    "vcpuNum": 2
   },
   {
    "_defaultOrder": 1,
    "_isFastLaunch": false,
    "category": "General purpose",
    "gpuNum": 0,
    "hideHardwareSpecs": false,
    "memoryGiB": 8,
    "name": "ml.t3.large",
    "vcpuNum": 2
   },
   {
    "_defaultOrder": 2,
    "_isFastLaunch": false,
    "category": "General purpose",
    "gpuNum": 0,
    "hideHardwareSpecs": false,
    "memoryGiB": 16,
    "name": "ml.t3.xlarge",
    "vcpuNum": 4
   },
   {
    "_defaultOrder": 3,
    "_isFastLaunch": false,
    "category": "General purpose",
    "gpuNum": 0,
    "hideHardwareSpecs": false,
    "memoryGiB": 32,
    "name": "ml.t3.2xlarge",
    "vcpuNum": 8
   },
   {
    "_defaultOrder": 4,
    "_isFastLaunch": true,
    "category": "General purpose",
    "gpuNum": 0,
    "hideHardwareSpecs": false,
    "memoryGiB": 8,
    "name": "ml.m5.large",
    "vcpuNum": 2
   },
   {
    "_defaultOrder": 5,
    "_isFastLaunch": false,
    "category": "General purpose",
    "gpuNum": 0,
    "hideHardwareSpecs": false,
    "memoryGiB": 16,
    "name": "ml.m5.xlarge",
    "vcpuNum": 4
   },
   {
    "_defaultOrder": 6,
    "_isFastLaunch": false,
    "category": "General purpose",
    "gpuNum": 0,
    "hideHardwareSpecs": false,
    "memoryGiB": 32,
    "name": "ml.m5.2xlarge",
    "vcpuNum": 8
   },
   {
    "_defaultOrder": 7,
    "_isFastLaunch": false,
    "category": "General purpose",
    "gpuNum": 0,
    "hideHardwareSpecs": false,
    "memoryGiB": 64,
    "name": "ml.m5.4xlarge",
    "vcpuNum": 16
   },
   {
    "_defaultOrder": 8,
    "_isFastLaunch": false,
    "category": "General purpose",
    "gpuNum": 0,
    "hideHardwareSpecs": false,
    "memoryGiB": 128,
    "name": "ml.m5.8xlarge",
    "vcpuNum": 32
   },
   {
    "_defaultOrder": 9,
    "_isFastLaunch": false,
    "category": "General purpose",
    "gpuNum": 0,
    "hideHardwareSpecs": false,
    "memoryGiB": 192,
    "name": "ml.m5.12xlarge",
    "vcpuNum": 48
   },
   {
    "_defaultOrder": 10,
    "_isFastLaunch": false,
    "category": "General purpose",
    "gpuNum": 0,
    "hideHardwareSpecs": false,
    "memoryGiB": 256,
    "name": "ml.m5.16xlarge",
    "vcpuNum": 64
   },
   {
    "_defaultOrder": 11,
    "_isFastLaunch": false,
    "category": "General purpose",
    "gpuNum": 0,
    "hideHardwareSpecs": false,
    "memoryGiB": 384,
    "name": "ml.m5.24xlarge",
    "vcpuNum": 96
   },
   {
    "_defaultOrder": 12,
    "_isFastLaunch": false,
    "category": "General purpose",
    "gpuNum": 0,
    "hideHardwareSpecs": false,
    "memoryGiB": 8,
    "name": "ml.m5d.large",
    "vcpuNum": 2
   },
   {
    "_defaultOrder": 13,
    "_isFastLaunch": false,
    "category": "General purpose",
    "gpuNum": 0,
    "hideHardwareSpecs": false,
    "memoryGiB": 16,
    "name": "ml.m5d.xlarge",
    "vcpuNum": 4
   },
   {
    "_defaultOrder": 14,
    "_isFastLaunch": false,
    "category": "General purpose",
    "gpuNum": 0,
    "hideHardwareSpecs": false,
    "memoryGiB": 32,
    "name": "ml.m5d.2xlarge",
    "vcpuNum": 8
   },
   {
    "_defaultOrder": 15,
    "_isFastLaunch": false,
    "category": "General purpose",
    "gpuNum": 0,
    "hideHardwareSpecs": false,
    "memoryGiB": 64,
    "name": "ml.m5d.4xlarge",
    "vcpuNum": 16
   },
   {
    "_defaultOrder": 16,
    "_isFastLaunch": false,
    "category": "General purpose",
    "gpuNum": 0,
    "hideHardwareSpecs": false,
    "memoryGiB": 128,
    "name": "ml.m5d.8xlarge",
    "vcpuNum": 32
   },
   {
    "_defaultOrder": 17,
    "_isFastLaunch": false,
    "category": "General purpose",
    "gpuNum": 0,
    "hideHardwareSpecs": false,
    "memoryGiB": 192,
    "name": "ml.m5d.12xlarge",
    "vcpuNum": 48
   },
   {
    "_defaultOrder": 18,
    "_isFastLaunch": false,
    "category": "General purpose",
    "gpuNum": 0,
    "hideHardwareSpecs": false,
    "memoryGiB": 256,
    "name": "ml.m5d.16xlarge",
    "vcpuNum": 64
   },
   {
    "_defaultOrder": 19,
    "_isFastLaunch": false,
    "category": "General purpose",
    "gpuNum": 0,
    "hideHardwareSpecs": false,
    "memoryGiB": 384,
    "name": "ml.m5d.24xlarge",
    "vcpuNum": 96
   },
   {
    "_defaultOrder": 20,
    "_isFastLaunch": false,
    "category": "General purpose",
    "gpuNum": 0,
    "hideHardwareSpecs": true,
    "memoryGiB": 0,
    "name": "ml.geospatial.interactive",
    "supportedImageNames": [
     "sagemaker-geospatial-v1-0"
    ],
    "vcpuNum": 0
   },
   {
    "_defaultOrder": 21,
    "_isFastLaunch": true,
    "category": "Compute optimized",
    "gpuNum": 0,
    "hideHardwareSpecs": false,
    "memoryGiB": 4,
    "name": "ml.c5.large",
    "vcpuNum": 2
   },
   {
    "_defaultOrder": 22,
    "_isFastLaunch": false,
    "category": "Compute optimized",
    "gpuNum": 0,
    "hideHardwareSpecs": false,
    "memoryGiB": 8,
    "name": "ml.c5.xlarge",
    "vcpuNum": 4
   },
   {
    "_defaultOrder": 23,
    "_isFastLaunch": false,
    "category": "Compute optimized",
    "gpuNum": 0,
    "hideHardwareSpecs": false,
    "memoryGiB": 16,
    "name": "ml.c5.2xlarge",
    "vcpuNum": 8
   },
   {
    "_defaultOrder": 24,
    "_isFastLaunch": false,
    "category": "Compute optimized",
    "gpuNum": 0,
    "hideHardwareSpecs": false,
    "memoryGiB": 32,
    "name": "ml.c5.4xlarge",
    "vcpuNum": 16
   },
   {
    "_defaultOrder": 25,
    "_isFastLaunch": false,
    "category": "Compute optimized",
    "gpuNum": 0,
    "hideHardwareSpecs": false,
    "memoryGiB": 72,
    "name": "ml.c5.9xlarge",
    "vcpuNum": 36
   },
   {
    "_defaultOrder": 26,
    "_isFastLaunch": false,
    "category": "Compute optimized",
    "gpuNum": 0,
    "hideHardwareSpecs": false,
    "memoryGiB": 96,
    "name": "ml.c5.12xlarge",
    "vcpuNum": 48
   },
   {
    "_defaultOrder": 27,
    "_isFastLaunch": false,
    "category": "Compute optimized",
    "gpuNum": 0,
    "hideHardwareSpecs": false,
    "memoryGiB": 144,
    "name": "ml.c5.18xlarge",
    "vcpuNum": 72
   },
   {
    "_defaultOrder": 28,
    "_isFastLaunch": false,
    "category": "Compute optimized",
    "gpuNum": 0,
    "hideHardwareSpecs": false,
    "memoryGiB": 192,
    "name": "ml.c5.24xlarge",
    "vcpuNum": 96
   },
   {
    "_defaultOrder": 29,
    "_isFastLaunch": true,
    "category": "Accelerated computing",
    "gpuNum": 1,
    "hideHardwareSpecs": false,
    "memoryGiB": 16,
    "name": "ml.g4dn.xlarge",
    "vcpuNum": 4
   },
   {
    "_defaultOrder": 30,
    "_isFastLaunch": false,
    "category": "Accelerated computing",
    "gpuNum": 1,
    "hideHardwareSpecs": false,
    "memoryGiB": 32,
    "name": "ml.g4dn.2xlarge",
    "vcpuNum": 8
   },
   {
    "_defaultOrder": 31,
    "_isFastLaunch": false,
    "category": "Accelerated computing",
    "gpuNum": 1,
    "hideHardwareSpecs": false,
    "memoryGiB": 64,
    "name": "ml.g4dn.4xlarge",
    "vcpuNum": 16
   },
   {
    "_defaultOrder": 32,
    "_isFastLaunch": false,
    "category": "Accelerated computing",
    "gpuNum": 1,
    "hideHardwareSpecs": false,
    "memoryGiB": 128,
    "name": "ml.g4dn.8xlarge",
    "vcpuNum": 32
   },
   {
    "_defaultOrder": 33,
    "_isFastLaunch": false,
    "category": "Accelerated computing",
    "gpuNum": 4,
    "hideHardwareSpecs": false,
    "memoryGiB": 192,
    "name": "ml.g4dn.12xlarge",
    "vcpuNum": 48
   },
   {
    "_defaultOrder": 34,
    "_isFastLaunch": false,
    "category": "Accelerated computing",
    "gpuNum": 1,
    "hideHardwareSpecs": false,
    "memoryGiB": 256,
    "name": "ml.g4dn.16xlarge",
    "vcpuNum": 64
   },
   {
    "_defaultOrder": 35,
    "_isFastLaunch": false,
    "category": "Accelerated computing",
    "gpuNum": 1,
    "hideHardwareSpecs": false,
    "memoryGiB": 61,
    "name": "ml.p3.2xlarge",
    "vcpuNum": 8
   },
   {
    "_defaultOrder": 36,
    "_isFastLaunch": false,
    "category": "Accelerated computing",
    "gpuNum": 4,
    "hideHardwareSpecs": false,
    "memoryGiB": 244,
    "name": "ml.p3.8xlarge",
    "vcpuNum": 32
   },
   {
    "_defaultOrder": 37,
    "_isFastLaunch": false,
    "category": "Accelerated computing",
    "gpuNum": 8,
    "hideHardwareSpecs": false,
    "memoryGiB": 488,
    "name": "ml.p3.16xlarge",
    "vcpuNum": 64
   },
   {
    "_defaultOrder": 38,
    "_isFastLaunch": false,
    "category": "Accelerated computing",
    "gpuNum": 8,
    "hideHardwareSpecs": false,
    "memoryGiB": 768,
    "name": "ml.p3dn.24xlarge",
    "vcpuNum": 96
   },
   {
    "_defaultOrder": 39,
    "_isFastLaunch": false,
    "category": "Memory Optimized",
    "gpuNum": 0,
    "hideHardwareSpecs": false,
    "memoryGiB": 16,
    "name": "ml.r5.large",
    "vcpuNum": 2
   },
   {
    "_defaultOrder": 40,
    "_isFastLaunch": false,
    "category": "Memory Optimized",
    "gpuNum": 0,
    "hideHardwareSpecs": false,
    "memoryGiB": 32,
    "name": "ml.r5.xlarge",
    "vcpuNum": 4
   },
   {
    "_defaultOrder": 41,
    "_isFastLaunch": false,
    "category": "Memory Optimized",
    "gpuNum": 0,
    "hideHardwareSpecs": false,
    "memoryGiB": 64,
    "name": "ml.r5.2xlarge",
    "vcpuNum": 8
   },
   {
    "_defaultOrder": 42,
    "_isFastLaunch": false,
    "category": "Memory Optimized",
    "gpuNum": 0,
    "hideHardwareSpecs": false,
    "memoryGiB": 128,
    "name": "ml.r5.4xlarge",
    "vcpuNum": 16
   },
   {
    "_defaultOrder": 43,
    "_isFastLaunch": false,
    "category": "Memory Optimized",
    "gpuNum": 0,
    "hideHardwareSpecs": false,
    "memoryGiB": 256,
    "name": "ml.r5.8xlarge",
    "vcpuNum": 32
   },
   {
    "_defaultOrder": 44,
    "_isFastLaunch": false,
    "category": "Memory Optimized",
    "gpuNum": 0,
    "hideHardwareSpecs": false,
    "memoryGiB": 384,
    "name": "ml.r5.12xlarge",
    "vcpuNum": 48
   },
   {
    "_defaultOrder": 45,
    "_isFastLaunch": false,
    "category": "Memory Optimized",
    "gpuNum": 0,
    "hideHardwareSpecs": false,
    "memoryGiB": 512,
    "name": "ml.r5.16xlarge",
    "vcpuNum": 64
   },
   {
    "_defaultOrder": 46,
    "_isFastLaunch": false,
    "category": "Memory Optimized",
    "gpuNum": 0,
    "hideHardwareSpecs": false,
    "memoryGiB": 768,
    "name": "ml.r5.24xlarge",
    "vcpuNum": 96
   },
   {
    "_defaultOrder": 47,
    "_isFastLaunch": false,
    "category": "Accelerated computing",
    "gpuNum": 1,
    "hideHardwareSpecs": false,
    "memoryGiB": 16,
    "name": "ml.g5.xlarge",
    "vcpuNum": 4
   },
   {
    "_defaultOrder": 48,
    "_isFastLaunch": false,
    "category": "Accelerated computing",
    "gpuNum": 1,
    "hideHardwareSpecs": false,
    "memoryGiB": 32,
    "name": "ml.g5.2xlarge",
    "vcpuNum": 8
   },
   {
    "_defaultOrder": 49,
    "_isFastLaunch": false,
    "category": "Accelerated computing",
    "gpuNum": 1,
    "hideHardwareSpecs": false,
    "memoryGiB": 64,
    "name": "ml.g5.4xlarge",
    "vcpuNum": 16
   },
   {
    "_defaultOrder": 50,
    "_isFastLaunch": false,
    "category": "Accelerated computing",
    "gpuNum": 1,
    "hideHardwareSpecs": false,
    "memoryGiB": 128,
    "name": "ml.g5.8xlarge",
    "vcpuNum": 32
   },
   {
    "_defaultOrder": 51,
    "_isFastLaunch": false,
    "category": "Accelerated computing",
    "gpuNum": 1,
    "hideHardwareSpecs": false,
    "memoryGiB": 256,
    "name": "ml.g5.16xlarge",
    "vcpuNum": 64
   },
   {
    "_defaultOrder": 52,
    "_isFastLaunch": false,
    "category": "Accelerated computing",
    "gpuNum": 4,
    "hideHardwareSpecs": false,
    "memoryGiB": 192,
    "name": "ml.g5.12xlarge",
    "vcpuNum": 48
   },
   {
    "_defaultOrder": 53,
    "_isFastLaunch": false,
    "category": "Accelerated computing",
    "gpuNum": 4,
    "hideHardwareSpecs": false,
    "memoryGiB": 384,
    "name": "ml.g5.24xlarge",
    "vcpuNum": 96
   },
   {
    "_defaultOrder": 54,
    "_isFastLaunch": false,
    "category": "Accelerated computing",
    "gpuNum": 8,
    "hideHardwareSpecs": false,
    "memoryGiB": 768,
    "name": "ml.g5.48xlarge",
    "vcpuNum": 192
   },
   {
    "_defaultOrder": 55,
    "_isFastLaunch": false,
    "category": "Accelerated computing",
    "gpuNum": 8,
    "hideHardwareSpecs": false,
    "memoryGiB": 1152,
    "name": "ml.p4d.24xlarge",
    "vcpuNum": 96
   },
   {
    "_defaultOrder": 56,
    "_isFastLaunch": false,
    "category": "Accelerated computing",
    "gpuNum": 8,
    "hideHardwareSpecs": false,
    "memoryGiB": 1152,
    "name": "ml.p4de.24xlarge",
    "vcpuNum": 96
   }
  ],
  "instance_type": "ml.m5.2xlarge",
  "kernelspec": {
   "display_name": "Python 3 (Data Science)",
   "language": "python",
   "name": "python3__SAGEMAKER_INTERNAL__arn:aws:sagemaker:us-east-1:081325390199:image/datascience-1.0"
  },
  "language_info": {
   "codemirror_mode": {
    "name": "ipython",
    "version": 3
   },
   "file_extension": ".py",
   "mimetype": "text/x-python",
   "name": "python",
   "nbconvert_exporter": "python",
   "pygments_lexer": "ipython3",
   "version": "3.7.10"
  }
 },
 "nbformat": 4,
 "nbformat_minor": 4
}
